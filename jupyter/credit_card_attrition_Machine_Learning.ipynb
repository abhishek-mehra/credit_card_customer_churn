{
 "cells": [
  {
   "cell_type": "markdown",
   "id": "cd7987fd-d276-4b0e-b5fd-283d48cf520a",
   "metadata": {},
   "source": [
    "## Importing libraries"
   ]
  },
  {
   "cell_type": "code",
   "execution_count": 1,
   "id": "9254eb61-dfaf-4a8a-98fa-239e38abbdaf",
   "metadata": {},
   "outputs": [],
   "source": [
    "import pandas as pd   #to work with dataframes\n",
    "import numpy as np    #for mathematical operations\n",
    "from sklearn.model_selection import  train_test_split   #for splitting into train and test data\n",
    "from sklearn.ensemble import RandomForestClassifier,AdaBoostClassifier , VotingClassifier , GradientBoostingClassifier \n",
    "from xgboost import XGBClassifier\n",
    "from sklearn.metrics import roc_auc_score,classification_report,f1_score,precision_score,recall_score, roc_curve  #metrics\n",
    "from sklearn.metrics import confusion_matrix, ConfusionMatrixDisplay\n",
    "from sklearn.model_selection import StratifiedKFold\n",
    "\n",
    "from sklearn.preprocessing import StandardScaler\n",
    "import seaborn as sns\n",
    "from matplotlib import pyplot as plt"
   ]
  },
  {
   "cell_type": "code",
   "execution_count": 2,
   "id": "fd16a50f-b821-40b9-baf5-acea0cb6f73b",
   "metadata": {},
   "outputs": [],
   "source": [
    "RANDOM_STATE = 1"
   ]
  },
  {
   "cell_type": "code",
   "execution_count": 3,
   "id": "65dcf724-ac82-464f-9a6c-451bc97acfa1",
   "metadata": {},
   "outputs": [],
   "source": [
    "credit_card_dataset = pd.read_csv(\"../Data/BankChurners.csv\")\n",
    "\n",
    "credit_card_dataset.drop(['Naive_Bayes_Classifier_Attrition_Flag_Card_Category_Contacts_Count_12_mon_Dependent_count_Education_Level_Months_Inactive_12_mon_1',\n",
    "           'Naive_Bayes_Classifier_Attrition_Flag_Card_Category_Contacts_Count_12_mon_Dependent_count_Education_Level_Months_Inactive_12_mon_2',\n",
    "           'CLIENTNUM'],axis=1,\n",
    "          inplace = True)\n",
    "\n",
    "credit_card_dataset = credit_card_dataset.replace({'Existing Customer':0,'Attrited Customer':1})"
   ]
  },
  {
   "cell_type": "code",
   "execution_count": 4,
   "id": "720101c6-8bc0-46d3-a6e4-819d6740f4d1",
   "metadata": {},
   "outputs": [
    {
     "data": {
      "text/html": [
       "<div>\n",
       "<style scoped>\n",
       "    .dataframe tbody tr th:only-of-type {\n",
       "        vertical-align: middle;\n",
       "    }\n",
       "\n",
       "    .dataframe tbody tr th {\n",
       "        vertical-align: top;\n",
       "    }\n",
       "\n",
       "    .dataframe thead th {\n",
       "        text-align: right;\n",
       "    }\n",
       "</style>\n",
       "<table border=\"1\" class=\"dataframe\">\n",
       "  <thead>\n",
       "    <tr style=\"text-align: right;\">\n",
       "      <th></th>\n",
       "      <th>Attrition_Flag</th>\n",
       "      <th>Customer_Age</th>\n",
       "      <th>Gender</th>\n",
       "      <th>Dependent_count</th>\n",
       "      <th>Education_Level</th>\n",
       "      <th>Marital_Status</th>\n",
       "      <th>Income_Category</th>\n",
       "      <th>Card_Category</th>\n",
       "      <th>Months_on_book</th>\n",
       "      <th>Total_Relationship_Count</th>\n",
       "      <th>Months_Inactive_12_mon</th>\n",
       "      <th>Contacts_Count_12_mon</th>\n",
       "      <th>Credit_Limit</th>\n",
       "      <th>Total_Revolving_Bal</th>\n",
       "      <th>Avg_Open_To_Buy</th>\n",
       "      <th>Total_Amt_Chng_Q4_Q1</th>\n",
       "      <th>Total_Trans_Amt</th>\n",
       "      <th>Total_Trans_Ct</th>\n",
       "      <th>Total_Ct_Chng_Q4_Q1</th>\n",
       "      <th>Avg_Utilization_Ratio</th>\n",
       "    </tr>\n",
       "  </thead>\n",
       "  <tbody>\n",
       "    <tr>\n",
       "      <th>0</th>\n",
       "      <td>0</td>\n",
       "      <td>45</td>\n",
       "      <td>M</td>\n",
       "      <td>3</td>\n",
       "      <td>High School</td>\n",
       "      <td>Married</td>\n",
       "      <td>$60K - $80K</td>\n",
       "      <td>Blue</td>\n",
       "      <td>39</td>\n",
       "      <td>5</td>\n",
       "      <td>1</td>\n",
       "      <td>3</td>\n",
       "      <td>12691.0</td>\n",
       "      <td>777</td>\n",
       "      <td>11914.0</td>\n",
       "      <td>1.335</td>\n",
       "      <td>1144</td>\n",
       "      <td>42</td>\n",
       "      <td>1.625</td>\n",
       "      <td>0.061</td>\n",
       "    </tr>\n",
       "    <tr>\n",
       "      <th>1</th>\n",
       "      <td>0</td>\n",
       "      <td>49</td>\n",
       "      <td>F</td>\n",
       "      <td>5</td>\n",
       "      <td>Graduate</td>\n",
       "      <td>Single</td>\n",
       "      <td>Less than $40K</td>\n",
       "      <td>Blue</td>\n",
       "      <td>44</td>\n",
       "      <td>6</td>\n",
       "      <td>1</td>\n",
       "      <td>2</td>\n",
       "      <td>8256.0</td>\n",
       "      <td>864</td>\n",
       "      <td>7392.0</td>\n",
       "      <td>1.541</td>\n",
       "      <td>1291</td>\n",
       "      <td>33</td>\n",
       "      <td>3.714</td>\n",
       "      <td>0.105</td>\n",
       "    </tr>\n",
       "    <tr>\n",
       "      <th>2</th>\n",
       "      <td>0</td>\n",
       "      <td>51</td>\n",
       "      <td>M</td>\n",
       "      <td>3</td>\n",
       "      <td>Graduate</td>\n",
       "      <td>Married</td>\n",
       "      <td>$80K - $120K</td>\n",
       "      <td>Blue</td>\n",
       "      <td>36</td>\n",
       "      <td>4</td>\n",
       "      <td>1</td>\n",
       "      <td>0</td>\n",
       "      <td>3418.0</td>\n",
       "      <td>0</td>\n",
       "      <td>3418.0</td>\n",
       "      <td>2.594</td>\n",
       "      <td>1887</td>\n",
       "      <td>20</td>\n",
       "      <td>2.333</td>\n",
       "      <td>0.000</td>\n",
       "    </tr>\n",
       "    <tr>\n",
       "      <th>3</th>\n",
       "      <td>0</td>\n",
       "      <td>40</td>\n",
       "      <td>F</td>\n",
       "      <td>4</td>\n",
       "      <td>High School</td>\n",
       "      <td>Unknown</td>\n",
       "      <td>Less than $40K</td>\n",
       "      <td>Blue</td>\n",
       "      <td>34</td>\n",
       "      <td>3</td>\n",
       "      <td>4</td>\n",
       "      <td>1</td>\n",
       "      <td>3313.0</td>\n",
       "      <td>2517</td>\n",
       "      <td>796.0</td>\n",
       "      <td>1.405</td>\n",
       "      <td>1171</td>\n",
       "      <td>20</td>\n",
       "      <td>2.333</td>\n",
       "      <td>0.760</td>\n",
       "    </tr>\n",
       "    <tr>\n",
       "      <th>4</th>\n",
       "      <td>0</td>\n",
       "      <td>40</td>\n",
       "      <td>M</td>\n",
       "      <td>3</td>\n",
       "      <td>Uneducated</td>\n",
       "      <td>Married</td>\n",
       "      <td>$60K - $80K</td>\n",
       "      <td>Blue</td>\n",
       "      <td>21</td>\n",
       "      <td>5</td>\n",
       "      <td>1</td>\n",
       "      <td>0</td>\n",
       "      <td>4716.0</td>\n",
       "      <td>0</td>\n",
       "      <td>4716.0</td>\n",
       "      <td>2.175</td>\n",
       "      <td>816</td>\n",
       "      <td>28</td>\n",
       "      <td>2.500</td>\n",
       "      <td>0.000</td>\n",
       "    </tr>\n",
       "  </tbody>\n",
       "</table>\n",
       "</div>"
      ],
      "text/plain": [
       "   Attrition_Flag  Customer_Age Gender  Dependent_count Education_Level  \\\n",
       "0               0            45      M                3     High School   \n",
       "1               0            49      F                5        Graduate   \n",
       "2               0            51      M                3        Graduate   \n",
       "3               0            40      F                4     High School   \n",
       "4               0            40      M                3      Uneducated   \n",
       "\n",
       "  Marital_Status Income_Category Card_Category  Months_on_book  \\\n",
       "0        Married     $60K - $80K          Blue              39   \n",
       "1         Single  Less than $40K          Blue              44   \n",
       "2        Married    $80K - $120K          Blue              36   \n",
       "3        Unknown  Less than $40K          Blue              34   \n",
       "4        Married     $60K - $80K          Blue              21   \n",
       "\n",
       "   Total_Relationship_Count  Months_Inactive_12_mon  Contacts_Count_12_mon  \\\n",
       "0                         5                       1                      3   \n",
       "1                         6                       1                      2   \n",
       "2                         4                       1                      0   \n",
       "3                         3                       4                      1   \n",
       "4                         5                       1                      0   \n",
       "\n",
       "   Credit_Limit  Total_Revolving_Bal  Avg_Open_To_Buy  Total_Amt_Chng_Q4_Q1  \\\n",
       "0       12691.0                  777          11914.0                 1.335   \n",
       "1        8256.0                  864           7392.0                 1.541   \n",
       "2        3418.0                    0           3418.0                 2.594   \n",
       "3        3313.0                 2517            796.0                 1.405   \n",
       "4        4716.0                    0           4716.0                 2.175   \n",
       "\n",
       "   Total_Trans_Amt  Total_Trans_Ct  Total_Ct_Chng_Q4_Q1  Avg_Utilization_Ratio  \n",
       "0             1144              42                1.625                  0.061  \n",
       "1             1291              33                3.714                  0.105  \n",
       "2             1887              20                2.333                  0.000  \n",
       "3             1171              20                2.333                  0.760  \n",
       "4              816              28                2.500                  0.000  "
      ]
     },
     "execution_count": 4,
     "metadata": {},
     "output_type": "execute_result"
    }
   ],
   "source": [
    "credit_card_dataset.head()"
   ]
  },
  {
   "cell_type": "markdown",
   "id": "cdbb7065-c7c6-471d-8c4d-91bb21642b69",
   "metadata": {},
   "source": [
    "## Functions - \n",
    "Category data type conversion,   \n",
    "Training-validation split,     \n",
    "Stratified Cross validation,   \n",
    "Model training and Metrics,   \n",
    "Remove outliers,     \n",
    "Standard Scaler  "
   ]
  },
  {
   "cell_type": "markdown",
   "id": "92a60dd9-2aad-4b2b-8588-d3690997ad18",
   "metadata": {},
   "source": [
    "#### [1]String/Object Data type to Category Data Type"
   ]
  },
  {
   "cell_type": "code",
   "execution_count": 5,
   "id": "134110cc-de35-4c2e-881e-4b5afab3b19a",
   "metadata": {},
   "outputs": [],
   "source": [
    "def cate_type(df):\n",
    "    ndf = df.copy(deep=True)\n",
    "    c = ndf.select_dtypes(include = 'object').columns   # selecting string type columns\n",
    "    for i in c:\n",
    "        ndf[i] = ndf[i].astype('category').cat.codes   # categorical columns to panda category type\n",
    "    return(ndf)  "
   ]
  },
  {
   "cell_type": "code",
   "execution_count": 6,
   "id": "02041037-31d4-48e2-8761-4c496e869c63",
   "metadata": {},
   "outputs": [],
   "source": [
    "cc_df = cate_type(credit_card_dataset)"
   ]
  },
  {
   "cell_type": "code",
   "execution_count": 7,
   "id": "84d3c1b0-3e29-4c12-b630-7e55536c0889",
   "metadata": {},
   "outputs": [
    {
     "data": {
      "text/html": [
       "<div>\n",
       "<style scoped>\n",
       "    .dataframe tbody tr th:only-of-type {\n",
       "        vertical-align: middle;\n",
       "    }\n",
       "\n",
       "    .dataframe tbody tr th {\n",
       "        vertical-align: top;\n",
       "    }\n",
       "\n",
       "    .dataframe thead th {\n",
       "        text-align: right;\n",
       "    }\n",
       "</style>\n",
       "<table border=\"1\" class=\"dataframe\">\n",
       "  <thead>\n",
       "    <tr style=\"text-align: right;\">\n",
       "      <th></th>\n",
       "      <th>Attrition_Flag</th>\n",
       "      <th>Customer_Age</th>\n",
       "      <th>Gender</th>\n",
       "      <th>Dependent_count</th>\n",
       "      <th>Education_Level</th>\n",
       "      <th>Marital_Status</th>\n",
       "      <th>Income_Category</th>\n",
       "      <th>Card_Category</th>\n",
       "      <th>Months_on_book</th>\n",
       "      <th>Total_Relationship_Count</th>\n",
       "      <th>Months_Inactive_12_mon</th>\n",
       "      <th>Contacts_Count_12_mon</th>\n",
       "      <th>Credit_Limit</th>\n",
       "      <th>Total_Revolving_Bal</th>\n",
       "      <th>Avg_Open_To_Buy</th>\n",
       "      <th>Total_Amt_Chng_Q4_Q1</th>\n",
       "      <th>Total_Trans_Amt</th>\n",
       "      <th>Total_Trans_Ct</th>\n",
       "      <th>Total_Ct_Chng_Q4_Q1</th>\n",
       "      <th>Avg_Utilization_Ratio</th>\n",
       "    </tr>\n",
       "  </thead>\n",
       "  <tbody>\n",
       "    <tr>\n",
       "      <th>0</th>\n",
       "      <td>0</td>\n",
       "      <td>45</td>\n",
       "      <td>1</td>\n",
       "      <td>3</td>\n",
       "      <td>3</td>\n",
       "      <td>1</td>\n",
       "      <td>2</td>\n",
       "      <td>0</td>\n",
       "      <td>39</td>\n",
       "      <td>5</td>\n",
       "      <td>1</td>\n",
       "      <td>3</td>\n",
       "      <td>12691.0</td>\n",
       "      <td>777</td>\n",
       "      <td>11914.0</td>\n",
       "      <td>1.335</td>\n",
       "      <td>1144</td>\n",
       "      <td>42</td>\n",
       "      <td>1.625</td>\n",
       "      <td>0.061</td>\n",
       "    </tr>\n",
       "    <tr>\n",
       "      <th>1</th>\n",
       "      <td>0</td>\n",
       "      <td>49</td>\n",
       "      <td>0</td>\n",
       "      <td>5</td>\n",
       "      <td>2</td>\n",
       "      <td>2</td>\n",
       "      <td>4</td>\n",
       "      <td>0</td>\n",
       "      <td>44</td>\n",
       "      <td>6</td>\n",
       "      <td>1</td>\n",
       "      <td>2</td>\n",
       "      <td>8256.0</td>\n",
       "      <td>864</td>\n",
       "      <td>7392.0</td>\n",
       "      <td>1.541</td>\n",
       "      <td>1291</td>\n",
       "      <td>33</td>\n",
       "      <td>3.714</td>\n",
       "      <td>0.105</td>\n",
       "    </tr>\n",
       "    <tr>\n",
       "      <th>2</th>\n",
       "      <td>0</td>\n",
       "      <td>51</td>\n",
       "      <td>1</td>\n",
       "      <td>3</td>\n",
       "      <td>2</td>\n",
       "      <td>1</td>\n",
       "      <td>3</td>\n",
       "      <td>0</td>\n",
       "      <td>36</td>\n",
       "      <td>4</td>\n",
       "      <td>1</td>\n",
       "      <td>0</td>\n",
       "      <td>3418.0</td>\n",
       "      <td>0</td>\n",
       "      <td>3418.0</td>\n",
       "      <td>2.594</td>\n",
       "      <td>1887</td>\n",
       "      <td>20</td>\n",
       "      <td>2.333</td>\n",
       "      <td>0.000</td>\n",
       "    </tr>\n",
       "    <tr>\n",
       "      <th>3</th>\n",
       "      <td>0</td>\n",
       "      <td>40</td>\n",
       "      <td>0</td>\n",
       "      <td>4</td>\n",
       "      <td>3</td>\n",
       "      <td>3</td>\n",
       "      <td>4</td>\n",
       "      <td>0</td>\n",
       "      <td>34</td>\n",
       "      <td>3</td>\n",
       "      <td>4</td>\n",
       "      <td>1</td>\n",
       "      <td>3313.0</td>\n",
       "      <td>2517</td>\n",
       "      <td>796.0</td>\n",
       "      <td>1.405</td>\n",
       "      <td>1171</td>\n",
       "      <td>20</td>\n",
       "      <td>2.333</td>\n",
       "      <td>0.760</td>\n",
       "    </tr>\n",
       "    <tr>\n",
       "      <th>4</th>\n",
       "      <td>0</td>\n",
       "      <td>40</td>\n",
       "      <td>1</td>\n",
       "      <td>3</td>\n",
       "      <td>5</td>\n",
       "      <td>1</td>\n",
       "      <td>2</td>\n",
       "      <td>0</td>\n",
       "      <td>21</td>\n",
       "      <td>5</td>\n",
       "      <td>1</td>\n",
       "      <td>0</td>\n",
       "      <td>4716.0</td>\n",
       "      <td>0</td>\n",
       "      <td>4716.0</td>\n",
       "      <td>2.175</td>\n",
       "      <td>816</td>\n",
       "      <td>28</td>\n",
       "      <td>2.500</td>\n",
       "      <td>0.000</td>\n",
       "    </tr>\n",
       "  </tbody>\n",
       "</table>\n",
       "</div>"
      ],
      "text/plain": [
       "   Attrition_Flag  Customer_Age  Gender  Dependent_count  Education_Level  \\\n",
       "0               0            45       1                3                3   \n",
       "1               0            49       0                5                2   \n",
       "2               0            51       1                3                2   \n",
       "3               0            40       0                4                3   \n",
       "4               0            40       1                3                5   \n",
       "\n",
       "   Marital_Status  Income_Category  Card_Category  Months_on_book  \\\n",
       "0               1                2              0              39   \n",
       "1               2                4              0              44   \n",
       "2               1                3              0              36   \n",
       "3               3                4              0              34   \n",
       "4               1                2              0              21   \n",
       "\n",
       "   Total_Relationship_Count  Months_Inactive_12_mon  Contacts_Count_12_mon  \\\n",
       "0                         5                       1                      3   \n",
       "1                         6                       1                      2   \n",
       "2                         4                       1                      0   \n",
       "3                         3                       4                      1   \n",
       "4                         5                       1                      0   \n",
       "\n",
       "   Credit_Limit  Total_Revolving_Bal  Avg_Open_To_Buy  Total_Amt_Chng_Q4_Q1  \\\n",
       "0       12691.0                  777          11914.0                 1.335   \n",
       "1        8256.0                  864           7392.0                 1.541   \n",
       "2        3418.0                    0           3418.0                 2.594   \n",
       "3        3313.0                 2517            796.0                 1.405   \n",
       "4        4716.0                    0           4716.0                 2.175   \n",
       "\n",
       "   Total_Trans_Amt  Total_Trans_Ct  Total_Ct_Chng_Q4_Q1  Avg_Utilization_Ratio  \n",
       "0             1144              42                1.625                  0.061  \n",
       "1             1291              33                3.714                  0.105  \n",
       "2             1887              20                2.333                  0.000  \n",
       "3             1171              20                2.333                  0.760  \n",
       "4              816              28                2.500                  0.000  "
      ]
     },
     "execution_count": 7,
     "metadata": {},
     "output_type": "execute_result"
    }
   ],
   "source": [
    "cc_df.head()"
   ]
  },
  {
   "cell_type": "markdown",
   "id": "876c2f30-f314-448c-9fda-32f8e14ef9d2",
   "metadata": {},
   "source": [
    "#### [2]Training and validation data split"
   ]
  },
  {
   "cell_type": "code",
   "execution_count": 8,
   "id": "23869f30-a269-4a2f-ace6-350e2f773e1b",
   "metadata": {},
   "outputs": [],
   "source": [
    "def ttsplit(df, label_col_name='Attrition_Flag',test_size=0.2):\n",
    "    df2 = df.copy(deep=True)\n",
    "    y = df2[label_col_name]\n",
    "    df2 = df2.drop(label_col_name, axis=1, inplace=False)\n",
    "    assert label_col_name not in df2.columns\n",
    "    \n",
    "    X_train, X_test, y_train, y_test = train_test_split(df2, y, test_size=test_size, shuffle=True, random_state=RANDOM_STATE, stratify=y)\n",
    "    print(X_train.shape,X_test.shape,y_train.shape,y_test.shape)\n",
    "    return(X_train, X_test ,y_train, y_test)"
   ]
  },
  {
   "cell_type": "markdown",
   "id": "d306c087-3ef8-4244-a721-d44aec829333",
   "metadata": {},
   "source": [
    "#### [3]Model training and metrics"
   ]
  },
  {
   "cell_type": "code",
   "execution_count": 9,
   "id": "6dbddb97-1a8c-4a7d-8243-b8430d3fcc98",
   "metadata": {},
   "outputs": [],
   "source": [
    "def model_train_score(model, df):\n",
    "    X_train, X_test, y_train, y_test = ttsplit(df)\n",
    "    model.fit(X_train, y_train)\n",
    "    pred = model.predict(X_test)\n",
    "    \n",
    "    print(f'precision_score = {round(precision_score(y_test,pred),3)}')\n",
    "    print(f'recall_score = {round(recall_score(y_test,pred),3)}')\n",
    "    print(f'roc_score = {round(roc_auc_score(y_true=y_test , y_score=pred),3)}')\n",
    "    print(f'f1_score = {round(f1_score(y_test,pred),3)}')\n",
    "    \n",
    "    # print(classification_report(y_test, pred))\n",
    "    # print(confusion_matrix(y_test, pred))\n",
    "    # cmd = ConfusionMatrixDisplay(confusion_matrix(y_test, pred))\n",
    "    # cmd.plot()"
   ]
  },
  {
   "cell_type": "markdown",
   "id": "1797c2ae-7596-41b1-a1a2-6f80a5313d7a",
   "metadata": {},
   "source": []
  },
  {
   "cell_type": "markdown",
   "id": "59f075ae-fd72-482c-808c-318b7ea33c21",
   "metadata": {},
   "source": [
    "#### [4]Stratified cross validation function"
   ]
  },
  {
   "cell_type": "code",
   "execution_count": 10,
   "id": "7c1d857c-09c2-4132-9f19-ce38a020d0b4",
   "metadata": {},
   "outputs": [],
   "source": [
    "def cv_score_model(df, model, folds=5, label_col_name=\"Attrition_Flag\"):\n",
    "    \n",
    "    y = df[label_col_name].values  #dataframe to numpy array\n",
    "    x = df.drop(label_col_name, axis=1, inplace=False).values   #dataframe to numpy array\n",
    "    \n",
    "    skfold = StratifiedKFold(random_state=RANDOM_STATE, n_splits=folds, shuffle=True) #creating object of StratifiedKFold class \n",
    "    \n",
    "    f1_score_c= []   #initialzing empty list to store f1 scores of cross validation folds\n",
    "    roc_auc= []\n",
    "    precision  = []\n",
    "    recall = []\n",
    "\n",
    "    for train_i, test_i in skfold.split(x, y):   # skfold.split returns the indices\n",
    "        X_train = x[train_i]\n",
    "        y_train = y[train_i]\n",
    "        \n",
    "        X_test = x[test_i]\n",
    "        y_test = y[test_i]\n",
    "        \n",
    "        model.fit(X_train, y_train)\n",
    "        \n",
    "        pred = model.predict(X_test)\n",
    "        \n",
    "        f1 = f1_score(y_test,pred)\n",
    "        f1_score_c.append(f1)\n",
    "        \n",
    "        roc = roc_auc_score(y_test,pred)\n",
    "        roc_auc.append(roc)\n",
    "        \n",
    "        prec = precision_score(y_test,pred)\n",
    "        precision.append(prec)\n",
    "        \n",
    "        rec = recall_score(y_test,pred)\n",
    "        recall.append(rec)\n",
    "    \n",
    "    \n",
    "    print (f\"precison_mean = {np.round(np.mean(precision),3)}, recall_mean= {np.round(np.mean(recall),3)}, f1_score_mean={np.round(np.mean(f1_score_c),3)},roc_mean= {np.round(np.mean(roc_auc),3)}\")\n",
    "        "
   ]
  },
  {
   "cell_type": "markdown",
   "id": "40c8ba8d-9fbb-4436-a83c-641da3f60755",
   "metadata": {},
   "source": [
    "#### [5]Function to remove outliers"
   ]
  },
  {
   "cell_type": "code",
   "execution_count": 11,
   "id": "881f9353-d7f3-4331-8fe0-3570a6e239a6",
   "metadata": {},
   "outputs": [],
   "source": [
    "def remove_outliers_from_num_columns(df):\n",
    "    df2 = df.copy(deep = True)\n",
    "    num_cols = [c for c in df2.select_dtypes(include=['float64','int64']).columns if c!=\"Attrition_Flag\"]\n",
    "    \n",
    "    for col in num_cols:\n",
    "        Q1 = df2[col].quantile(0.25)\n",
    "        Q3 = df2[col].quantile(0.75)\n",
    "        IQR = Q3-Q1\n",
    "        lower_lim = Q1-(1.5*IQR)\n",
    "        upper_lim = Q3+(1.5*IQR)\n",
    "        \n",
    "        df2 = df2.loc[(df2[col]>lower_lim) & (df2[col]<upper_lim)]\n",
    "    \n",
    "    return df2"
   ]
  },
  {
   "cell_type": "markdown",
   "id": "a219d6ad-ab12-4036-bb76-cfdd187c8bce",
   "metadata": {},
   "source": [
    "#### [6]Standard scaler Function"
   ]
  },
  {
   "cell_type": "code",
   "execution_count": 12,
   "id": "3eb58833-c935-4e99-8a7c-df3cd2aa623e",
   "metadata": {},
   "outputs": [],
   "source": [
    "def stan_scal(df):\n",
    "    # Dropping label column\n",
    "    ndf = df.drop(['Attrition_Flag'], axis=1, inplace=False)\n",
    "   \n",
    "    # Split\n",
    "    df_category = ndf.select_dtypes(include = ['int8'])\n",
    "    numerical_df = ndf.select_dtypes(include = ['float64','int64'])\n",
    "    \n",
    "    # Sanity test\n",
    "    assert len(df_category.columns) + len(numerical_df.columns) == len(ndf.columns)\n",
    "    \n",
    "    # Scale numerical columns - ndarray\n",
    "    stan_sc = StandardScaler()\n",
    "    stan_sc.fit(numerical_df)\n",
    "    \n",
    "    # create numerical dataframe from ndarray\n",
    "    df_numer = pd.DataFrame(columns=stan_sc.feature_names_in_, data=stan_sc.transform(numerical_df))\n",
    "\n",
    "    # create final dataframe by joining scaled numerical features, categorical features and label\n",
    "    df_final = df_category.join(df_numer)\n",
    "    df_final['Attrition_Flag'] = df['Attrition_Flag']\n",
    "    \n",
    "    #sanity tests\n",
    "    assert len(df_final.columns) == len(df.columns)\n",
    "    assert set(df_final.columns) == set(df.columns)\n",
    "    \n",
    "    return df_final"
   ]
  },
  {
   "cell_type": "markdown",
   "id": "095f7419-1c7f-41c0-8876-0a75035dc5dc",
   "metadata": {},
   "source": [
    "## [E1][Best base model variant based on Train test split] Base model and its variants - Train and Validate Evaluation"
   ]
  },
  {
   "cell_type": "code",
   "execution_count": 13,
   "id": "38cfd51a-d3c9-4176-ab82-908fefde458a",
   "metadata": {},
   "outputs": [],
   "source": [
    "cc_df = cate_type(credit_card_dataset)"
   ]
  },
  {
   "cell_type": "code",
   "execution_count": 14,
   "id": "d105c992-0f2d-4112-905b-920de0b75d97",
   "metadata": {},
   "outputs": [
    {
     "data": {
      "text/html": [
       "<div>\n",
       "<style scoped>\n",
       "    .dataframe tbody tr th:only-of-type {\n",
       "        vertical-align: middle;\n",
       "    }\n",
       "\n",
       "    .dataframe tbody tr th {\n",
       "        vertical-align: top;\n",
       "    }\n",
       "\n",
       "    .dataframe thead th {\n",
       "        text-align: right;\n",
       "    }\n",
       "</style>\n",
       "<table border=\"1\" class=\"dataframe\">\n",
       "  <thead>\n",
       "    <tr style=\"text-align: right;\">\n",
       "      <th></th>\n",
       "      <th>Attrition_Flag</th>\n",
       "      <th>Customer_Age</th>\n",
       "      <th>Gender</th>\n",
       "      <th>Dependent_count</th>\n",
       "      <th>Education_Level</th>\n",
       "      <th>Marital_Status</th>\n",
       "      <th>Income_Category</th>\n",
       "      <th>Card_Category</th>\n",
       "      <th>Months_on_book</th>\n",
       "      <th>Total_Relationship_Count</th>\n",
       "      <th>Months_Inactive_12_mon</th>\n",
       "      <th>Contacts_Count_12_mon</th>\n",
       "      <th>Credit_Limit</th>\n",
       "      <th>Total_Revolving_Bal</th>\n",
       "      <th>Avg_Open_To_Buy</th>\n",
       "      <th>Total_Amt_Chng_Q4_Q1</th>\n",
       "      <th>Total_Trans_Amt</th>\n",
       "      <th>Total_Trans_Ct</th>\n",
       "      <th>Total_Ct_Chng_Q4_Q1</th>\n",
       "      <th>Avg_Utilization_Ratio</th>\n",
       "    </tr>\n",
       "  </thead>\n",
       "  <tbody>\n",
       "    <tr>\n",
       "      <th>0</th>\n",
       "      <td>0</td>\n",
       "      <td>45</td>\n",
       "      <td>1</td>\n",
       "      <td>3</td>\n",
       "      <td>3</td>\n",
       "      <td>1</td>\n",
       "      <td>2</td>\n",
       "      <td>0</td>\n",
       "      <td>39</td>\n",
       "      <td>5</td>\n",
       "      <td>1</td>\n",
       "      <td>3</td>\n",
       "      <td>12691.0</td>\n",
       "      <td>777</td>\n",
       "      <td>11914.0</td>\n",
       "      <td>1.335</td>\n",
       "      <td>1144</td>\n",
       "      <td>42</td>\n",
       "      <td>1.625</td>\n",
       "      <td>0.061</td>\n",
       "    </tr>\n",
       "    <tr>\n",
       "      <th>1</th>\n",
       "      <td>0</td>\n",
       "      <td>49</td>\n",
       "      <td>0</td>\n",
       "      <td>5</td>\n",
       "      <td>2</td>\n",
       "      <td>2</td>\n",
       "      <td>4</td>\n",
       "      <td>0</td>\n",
       "      <td>44</td>\n",
       "      <td>6</td>\n",
       "      <td>1</td>\n",
       "      <td>2</td>\n",
       "      <td>8256.0</td>\n",
       "      <td>864</td>\n",
       "      <td>7392.0</td>\n",
       "      <td>1.541</td>\n",
       "      <td>1291</td>\n",
       "      <td>33</td>\n",
       "      <td>3.714</td>\n",
       "      <td>0.105</td>\n",
       "    </tr>\n",
       "    <tr>\n",
       "      <th>2</th>\n",
       "      <td>0</td>\n",
       "      <td>51</td>\n",
       "      <td>1</td>\n",
       "      <td>3</td>\n",
       "      <td>2</td>\n",
       "      <td>1</td>\n",
       "      <td>3</td>\n",
       "      <td>0</td>\n",
       "      <td>36</td>\n",
       "      <td>4</td>\n",
       "      <td>1</td>\n",
       "      <td>0</td>\n",
       "      <td>3418.0</td>\n",
       "      <td>0</td>\n",
       "      <td>3418.0</td>\n",
       "      <td>2.594</td>\n",
       "      <td>1887</td>\n",
       "      <td>20</td>\n",
       "      <td>2.333</td>\n",
       "      <td>0.000</td>\n",
       "    </tr>\n",
       "    <tr>\n",
       "      <th>3</th>\n",
       "      <td>0</td>\n",
       "      <td>40</td>\n",
       "      <td>0</td>\n",
       "      <td>4</td>\n",
       "      <td>3</td>\n",
       "      <td>3</td>\n",
       "      <td>4</td>\n",
       "      <td>0</td>\n",
       "      <td>34</td>\n",
       "      <td>3</td>\n",
       "      <td>4</td>\n",
       "      <td>1</td>\n",
       "      <td>3313.0</td>\n",
       "      <td>2517</td>\n",
       "      <td>796.0</td>\n",
       "      <td>1.405</td>\n",
       "      <td>1171</td>\n",
       "      <td>20</td>\n",
       "      <td>2.333</td>\n",
       "      <td>0.760</td>\n",
       "    </tr>\n",
       "    <tr>\n",
       "      <th>4</th>\n",
       "      <td>0</td>\n",
       "      <td>40</td>\n",
       "      <td>1</td>\n",
       "      <td>3</td>\n",
       "      <td>5</td>\n",
       "      <td>1</td>\n",
       "      <td>2</td>\n",
       "      <td>0</td>\n",
       "      <td>21</td>\n",
       "      <td>5</td>\n",
       "      <td>1</td>\n",
       "      <td>0</td>\n",
       "      <td>4716.0</td>\n",
       "      <td>0</td>\n",
       "      <td>4716.0</td>\n",
       "      <td>2.175</td>\n",
       "      <td>816</td>\n",
       "      <td>28</td>\n",
       "      <td>2.500</td>\n",
       "      <td>0.000</td>\n",
       "    </tr>\n",
       "  </tbody>\n",
       "</table>\n",
       "</div>"
      ],
      "text/plain": [
       "   Attrition_Flag  Customer_Age  Gender  Dependent_count  Education_Level  \\\n",
       "0               0            45       1                3                3   \n",
       "1               0            49       0                5                2   \n",
       "2               0            51       1                3                2   \n",
       "3               0            40       0                4                3   \n",
       "4               0            40       1                3                5   \n",
       "\n",
       "   Marital_Status  Income_Category  Card_Category  Months_on_book  \\\n",
       "0               1                2              0              39   \n",
       "1               2                4              0              44   \n",
       "2               1                3              0              36   \n",
       "3               3                4              0              34   \n",
       "4               1                2              0              21   \n",
       "\n",
       "   Total_Relationship_Count  Months_Inactive_12_mon  Contacts_Count_12_mon  \\\n",
       "0                         5                       1                      3   \n",
       "1                         6                       1                      2   \n",
       "2                         4                       1                      0   \n",
       "3                         3                       4                      1   \n",
       "4                         5                       1                      0   \n",
       "\n",
       "   Credit_Limit  Total_Revolving_Bal  Avg_Open_To_Buy  Total_Amt_Chng_Q4_Q1  \\\n",
       "0       12691.0                  777          11914.0                 1.335   \n",
       "1        8256.0                  864           7392.0                 1.541   \n",
       "2        3418.0                    0           3418.0                 2.594   \n",
       "3        3313.0                 2517            796.0                 1.405   \n",
       "4        4716.0                    0           4716.0                 2.175   \n",
       "\n",
       "   Total_Trans_Amt  Total_Trans_Ct  Total_Ct_Chng_Q4_Q1  Avg_Utilization_Ratio  \n",
       "0             1144              42                1.625                  0.061  \n",
       "1             1291              33                3.714                  0.105  \n",
       "2             1887              20                2.333                  0.000  \n",
       "3             1171              20                2.333                  0.760  \n",
       "4              816              28                2.500                  0.000  "
      ]
     },
     "execution_count": 14,
     "metadata": {},
     "output_type": "execute_result"
    }
   ],
   "source": [
    "cc_df.head()"
   ]
  },
  {
   "cell_type": "code",
   "execution_count": 15,
   "id": "e306b957-7cfa-4a65-b3a6-c987b22f0f32",
   "metadata": {},
   "outputs": [
    {
     "name": "stdout",
     "output_type": "stream",
     "text": [
      "(8101, 19) (2026, 19) (8101,) (2026,)\n",
      "precision_score = 0.932\n",
      "recall_score = 0.849\n",
      "roc_score = 0.919\n",
      "f1_score = 0.889\n"
     ]
    }
   ],
   "source": [
    "rf = RandomForestClassifier(random_state=RANDOM_STATE,n_estimators=100)\n",
    "model_train_score(rf,cc_df)"
   ]
  },
  {
   "cell_type": "code",
   "execution_count": 16,
   "id": "b09dd249-a420-4cf0-bdb1-415fed25f9de",
   "metadata": {},
   "outputs": [
    {
     "name": "stdout",
     "output_type": "stream",
     "text": [
      "(8101, 19) (2026, 19) (8101,) (2026,)\n",
      "precision_score = 0.936\n",
      "recall_score = 0.862\n",
      "roc_score = 0.925\n",
      "f1_score = 0.897\n"
     ]
    }
   ],
   "source": [
    "rf = RandomForestClassifier(random_state=RANDOM_STATE,n_estimators=200)\n",
    "model_train_score(rf,cc_df)"
   ]
  },
  {
   "cell_type": "code",
   "execution_count": 17,
   "id": "2bde13a4-ed04-4680-8126-90b7b6cf6a31",
   "metadata": {},
   "outputs": [
    {
     "name": "stdout",
     "output_type": "stream",
     "text": [
      "(8101, 19) (2026, 19) (8101,) (2026,)\n",
      "precision_score = 0.934\n",
      "recall_score = 0.865\n",
      "roc_score = 0.926\n",
      "f1_score = 0.898\n"
     ]
    }
   ],
   "source": [
    "rf = RandomForestClassifier(random_state=RANDOM_STATE,n_estimators=300)\n",
    "model_train_score(rf,cc_df)"
   ]
  },
  {
   "cell_type": "code",
   "execution_count": 18,
   "id": "ffb9db9a-12b8-4e96-9d67-45e11f3066cf",
   "metadata": {},
   "outputs": [
    {
     "name": "stdout",
     "output_type": "stream",
     "text": [
      "(8101, 19) (2026, 19) (8101,) (2026,)\n",
      "precision_score = 0.94\n",
      "recall_score = 0.868\n",
      "roc_score = 0.929\n",
      "f1_score = 0.902\n"
     ]
    }
   ],
   "source": [
    "rf = RandomForestClassifier(random_state=RANDOM_STATE,n_estimators=400)\n",
    "model_train_score(rf,cc_df)"
   ]
  },
  {
   "cell_type": "code",
   "execution_count": 19,
   "id": "2aecf64d-f7ca-4ae9-aee0-5b9c416ab343",
   "metadata": {},
   "outputs": [
    {
     "name": "stdout",
     "output_type": "stream",
     "text": [
      "(8101, 19) (2026, 19) (8101,) (2026,)\n",
      "precision_score = 0.943\n",
      "recall_score = 0.868\n",
      "roc_score = 0.929\n",
      "f1_score = 0.904\n"
     ]
    }
   ],
   "source": [
    "rf = RandomForestClassifier(random_state=RANDOM_STATE,n_estimators=500)\n",
    "model_train_score(rf,cc_df)"
   ]
  },
  {
   "cell_type": "code",
   "execution_count": 20,
   "id": "4760ab9b-0447-4c35-b1c8-ec7a2e1cdd08",
   "metadata": {
    "jp-MarkdownHeadingCollapsed": true,
    "tags": []
   },
   "outputs": [
    {
     "name": "stdout",
     "output_type": "stream",
     "text": [
      "(8101, 19) (2026, 19) (8101,) (2026,)\n",
      "precision_score = 0.934\n",
      "recall_score = 0.874\n",
      "roc_score = 0.931\n",
      "f1_score = 0.903\n"
     ]
    }
   ],
   "source": [
    "rf = RandomForestClassifier(random_state=RANDOM_STATE,n_estimators=600)\n",
    "model_train_score(rf,cc_df)"
   ]
  },
  {
   "cell_type": "code",
   "execution_count": 21,
   "id": "9fb66135-d589-4d43-b726-a0d2e1ff2712",
   "metadata": {},
   "outputs": [
    {
     "name": "stdout",
     "output_type": "stream",
     "text": [
      "(8101, 19) (2026, 19) (8101,) (2026,)\n",
      "precision_score = 0.931\n",
      "recall_score = 0.871\n",
      "roc_score = 0.929\n",
      "f1_score = 0.9\n"
     ]
    }
   ],
   "source": [
    "rf = RandomForestClassifier(random_state=RANDOM_STATE,n_estimators=700)\n",
    "model_train_score(rf,cc_df)"
   ]
  },
  {
   "cell_type": "code",
   "execution_count": 22,
   "id": "994405b3-fb99-40fe-9729-39898836e8b9",
   "metadata": {},
   "outputs": [],
   "source": [
    "data = {'number_of_estimators':[100,200,300,400,500,600],'roc':[.919,.925,.926,0.929,0.929,.931], 'f1':[0.889,0.897,0.898,0.902,.904,0.903]}\n",
    "\n"
   ]
  },
  {
   "cell_type": "code",
   "execution_count": 23,
   "id": "3b2c8e33-6b32-4201-803e-fecba2386cfc",
   "metadata": {},
   "outputs": [
    {
     "name": "stdout",
     "output_type": "stream",
     "text": [
      "Base model on Test Train Split\n",
      "   number_of_estimators    roc     f1\n",
      "0                   100  0.919  0.889\n",
      "1                   200  0.925  0.897\n",
      "2                   300  0.926  0.898\n",
      "3                   400  0.929  0.902\n",
      "4                   500  0.929  0.904\n",
      "5                   600  0.931  0.903\n"
     ]
    }
   ],
   "source": [
    "print('Base model on Test Train Split')\n",
    "table = pd.DataFrame(data)\n",
    "print(table)"
   ]
  },
  {
   "cell_type": "markdown",
   "id": "ae157ffc-5a3e-4bb5-a6de-dbfb89407dfa",
   "metadata": {},
   "source": [
    "## [E2][Best base model variant based on CV] Base model and its variants - CV Evaluation"
   ]
  },
  {
   "cell_type": "code",
   "execution_count": 24,
   "id": "d2d1e943-d8ad-4c37-8c08-3542286cf4db",
   "metadata": {},
   "outputs": [
    {
     "data": {
      "text/html": [
       "<div>\n",
       "<style scoped>\n",
       "    .dataframe tbody tr th:only-of-type {\n",
       "        vertical-align: middle;\n",
       "    }\n",
       "\n",
       "    .dataframe tbody tr th {\n",
       "        vertical-align: top;\n",
       "    }\n",
       "\n",
       "    .dataframe thead th {\n",
       "        text-align: right;\n",
       "    }\n",
       "</style>\n",
       "<table border=\"1\" class=\"dataframe\">\n",
       "  <thead>\n",
       "    <tr style=\"text-align: right;\">\n",
       "      <th></th>\n",
       "      <th>Attrition_Flag</th>\n",
       "      <th>Customer_Age</th>\n",
       "      <th>Gender</th>\n",
       "      <th>Dependent_count</th>\n",
       "      <th>Education_Level</th>\n",
       "      <th>Marital_Status</th>\n",
       "      <th>Income_Category</th>\n",
       "      <th>Card_Category</th>\n",
       "      <th>Months_on_book</th>\n",
       "      <th>Total_Relationship_Count</th>\n",
       "      <th>Months_Inactive_12_mon</th>\n",
       "      <th>Contacts_Count_12_mon</th>\n",
       "      <th>Credit_Limit</th>\n",
       "      <th>Total_Revolving_Bal</th>\n",
       "      <th>Avg_Open_To_Buy</th>\n",
       "      <th>Total_Amt_Chng_Q4_Q1</th>\n",
       "      <th>Total_Trans_Amt</th>\n",
       "      <th>Total_Trans_Ct</th>\n",
       "      <th>Total_Ct_Chng_Q4_Q1</th>\n",
       "      <th>Avg_Utilization_Ratio</th>\n",
       "    </tr>\n",
       "  </thead>\n",
       "  <tbody>\n",
       "    <tr>\n",
       "      <th>0</th>\n",
       "      <td>0</td>\n",
       "      <td>45</td>\n",
       "      <td>M</td>\n",
       "      <td>3</td>\n",
       "      <td>High School</td>\n",
       "      <td>Married</td>\n",
       "      <td>$60K - $80K</td>\n",
       "      <td>Blue</td>\n",
       "      <td>39</td>\n",
       "      <td>5</td>\n",
       "      <td>1</td>\n",
       "      <td>3</td>\n",
       "      <td>12691.0</td>\n",
       "      <td>777</td>\n",
       "      <td>11914.0</td>\n",
       "      <td>1.335</td>\n",
       "      <td>1144</td>\n",
       "      <td>42</td>\n",
       "      <td>1.625</td>\n",
       "      <td>0.061</td>\n",
       "    </tr>\n",
       "    <tr>\n",
       "      <th>1</th>\n",
       "      <td>0</td>\n",
       "      <td>49</td>\n",
       "      <td>F</td>\n",
       "      <td>5</td>\n",
       "      <td>Graduate</td>\n",
       "      <td>Single</td>\n",
       "      <td>Less than $40K</td>\n",
       "      <td>Blue</td>\n",
       "      <td>44</td>\n",
       "      <td>6</td>\n",
       "      <td>1</td>\n",
       "      <td>2</td>\n",
       "      <td>8256.0</td>\n",
       "      <td>864</td>\n",
       "      <td>7392.0</td>\n",
       "      <td>1.541</td>\n",
       "      <td>1291</td>\n",
       "      <td>33</td>\n",
       "      <td>3.714</td>\n",
       "      <td>0.105</td>\n",
       "    </tr>\n",
       "    <tr>\n",
       "      <th>2</th>\n",
       "      <td>0</td>\n",
       "      <td>51</td>\n",
       "      <td>M</td>\n",
       "      <td>3</td>\n",
       "      <td>Graduate</td>\n",
       "      <td>Married</td>\n",
       "      <td>$80K - $120K</td>\n",
       "      <td>Blue</td>\n",
       "      <td>36</td>\n",
       "      <td>4</td>\n",
       "      <td>1</td>\n",
       "      <td>0</td>\n",
       "      <td>3418.0</td>\n",
       "      <td>0</td>\n",
       "      <td>3418.0</td>\n",
       "      <td>2.594</td>\n",
       "      <td>1887</td>\n",
       "      <td>20</td>\n",
       "      <td>2.333</td>\n",
       "      <td>0.000</td>\n",
       "    </tr>\n",
       "    <tr>\n",
       "      <th>3</th>\n",
       "      <td>0</td>\n",
       "      <td>40</td>\n",
       "      <td>F</td>\n",
       "      <td>4</td>\n",
       "      <td>High School</td>\n",
       "      <td>Unknown</td>\n",
       "      <td>Less than $40K</td>\n",
       "      <td>Blue</td>\n",
       "      <td>34</td>\n",
       "      <td>3</td>\n",
       "      <td>4</td>\n",
       "      <td>1</td>\n",
       "      <td>3313.0</td>\n",
       "      <td>2517</td>\n",
       "      <td>796.0</td>\n",
       "      <td>1.405</td>\n",
       "      <td>1171</td>\n",
       "      <td>20</td>\n",
       "      <td>2.333</td>\n",
       "      <td>0.760</td>\n",
       "    </tr>\n",
       "    <tr>\n",
       "      <th>4</th>\n",
       "      <td>0</td>\n",
       "      <td>40</td>\n",
       "      <td>M</td>\n",
       "      <td>3</td>\n",
       "      <td>Uneducated</td>\n",
       "      <td>Married</td>\n",
       "      <td>$60K - $80K</td>\n",
       "      <td>Blue</td>\n",
       "      <td>21</td>\n",
       "      <td>5</td>\n",
       "      <td>1</td>\n",
       "      <td>0</td>\n",
       "      <td>4716.0</td>\n",
       "      <td>0</td>\n",
       "      <td>4716.0</td>\n",
       "      <td>2.175</td>\n",
       "      <td>816</td>\n",
       "      <td>28</td>\n",
       "      <td>2.500</td>\n",
       "      <td>0.000</td>\n",
       "    </tr>\n",
       "  </tbody>\n",
       "</table>\n",
       "</div>"
      ],
      "text/plain": [
       "   Attrition_Flag  Customer_Age Gender  Dependent_count Education_Level  \\\n",
       "0               0            45      M                3     High School   \n",
       "1               0            49      F                5        Graduate   \n",
       "2               0            51      M                3        Graduate   \n",
       "3               0            40      F                4     High School   \n",
       "4               0            40      M                3      Uneducated   \n",
       "\n",
       "  Marital_Status Income_Category Card_Category  Months_on_book  \\\n",
       "0        Married     $60K - $80K          Blue              39   \n",
       "1         Single  Less than $40K          Blue              44   \n",
       "2        Married    $80K - $120K          Blue              36   \n",
       "3        Unknown  Less than $40K          Blue              34   \n",
       "4        Married     $60K - $80K          Blue              21   \n",
       "\n",
       "   Total_Relationship_Count  Months_Inactive_12_mon  Contacts_Count_12_mon  \\\n",
       "0                         5                       1                      3   \n",
       "1                         6                       1                      2   \n",
       "2                         4                       1                      0   \n",
       "3                         3                       4                      1   \n",
       "4                         5                       1                      0   \n",
       "\n",
       "   Credit_Limit  Total_Revolving_Bal  Avg_Open_To_Buy  Total_Amt_Chng_Q4_Q1  \\\n",
       "0       12691.0                  777          11914.0                 1.335   \n",
       "1        8256.0                  864           7392.0                 1.541   \n",
       "2        3418.0                    0           3418.0                 2.594   \n",
       "3        3313.0                 2517            796.0                 1.405   \n",
       "4        4716.0                    0           4716.0                 2.175   \n",
       "\n",
       "   Total_Trans_Amt  Total_Trans_Ct  Total_Ct_Chng_Q4_Q1  Avg_Utilization_Ratio  \n",
       "0             1144              42                1.625                  0.061  \n",
       "1             1291              33                3.714                  0.105  \n",
       "2             1887              20                2.333                  0.000  \n",
       "3             1171              20                2.333                  0.760  \n",
       "4              816              28                2.500                  0.000  "
      ]
     },
     "execution_count": 24,
     "metadata": {},
     "output_type": "execute_result"
    }
   ],
   "source": [
    "credit_card_dataset.head()"
   ]
  },
  {
   "cell_type": "code",
   "execution_count": 25,
   "id": "7e982e80-4d65-49cb-9430-683c39593e86",
   "metadata": {},
   "outputs": [],
   "source": [
    "cc_df = cate_type(credit_card_dataset)"
   ]
  },
  {
   "cell_type": "code",
   "execution_count": 26,
   "id": "35e150f3-6691-439d-953b-a3a6706055e0",
   "metadata": {},
   "outputs": [
    {
     "name": "stdout",
     "output_type": "stream",
     "text": [
      "precison_mean = 0.933, recall_mean= 0.795, f1_score_mean=0.858,roc_mean= 0.892\n"
     ]
    }
   ],
   "source": [
    "rf = RandomForestClassifier(random_state=RANDOM_STATE,n_estimators=200, n_jobs=-1, class_weight=\"balanced_subsample\")\n",
    "cv_score_model(cc_df,rf)"
   ]
  },
  {
   "cell_type": "code",
   "execution_count": 27,
   "id": "76442e4c-6c9f-4e90-ab8b-957aac367874",
   "metadata": {},
   "outputs": [
    {
     "name": "stdout",
     "output_type": "stream",
     "text": [
      "precison_mean = 0.932, recall_mean= 0.796, f1_score_mean=0.858,roc_mean= 0.892\n"
     ]
    }
   ],
   "source": [
    "rf = RandomForestClassifier(random_state=RANDOM_STATE,n_estimators=300, n_jobs=-1, class_weight=\"balanced_subsample\")\n",
    "cv_score_model(cc_df,rf)"
   ]
  },
  {
   "cell_type": "code",
   "execution_count": 28,
   "id": "05b40ca6-1e0d-4c1b-a74c-b9022f5633a9",
   "metadata": {},
   "outputs": [
    {
     "name": "stdout",
     "output_type": "stream",
     "text": [
      "precison_mean = 0.932, recall_mean= 0.797, f1_score_mean=0.859,roc_mean= 0.893\n"
     ]
    }
   ],
   "source": [
    "rf = RandomForestClassifier(random_state=RANDOM_STATE,n_estimators=350, n_jobs=-1, class_weight=\"balanced_subsample\")\n",
    "cv_score_model(cc_df,rf)"
   ]
  },
  {
   "cell_type": "code",
   "execution_count": 29,
   "id": "01d63dc4-e9d0-4417-b7a8-6fdfaffba88b",
   "metadata": {},
   "outputs": [
    {
     "name": "stdout",
     "output_type": "stream",
     "text": [
      "precison_mean = 0.932, recall_mean= 0.797, f1_score_mean=0.859,roc_mean= 0.893\n"
     ]
    }
   ],
   "source": [
    "rf = RandomForestClassifier(random_state=RANDOM_STATE,n_estimators=400, n_jobs=-1, class_weight=\"balanced_subsample\")\n",
    "cv_score_model(cc_df,rf)"
   ]
  },
  {
   "cell_type": "code",
   "execution_count": 30,
   "id": "ed1688a2-2a68-4d9c-82b1-56bfdc134c0b",
   "metadata": {},
   "outputs": [
    {
     "name": "stdout",
     "output_type": "stream",
     "text": [
      "precison_mean = 0.931, recall_mean= 0.798, f1_score_mean=0.859,roc_mean= 0.894\n"
     ]
    }
   ],
   "source": [
    "rf = RandomForestClassifier(random_state=RANDOM_STATE,n_estimators=450, n_jobs=-1, class_weight=\"balanced_subsample\")\n",
    "cv_score_model(cc_df,rf)"
   ]
  },
  {
   "cell_type": "code",
   "execution_count": 31,
   "id": "8e517c95-a0f5-4497-8172-b3e4f20a3aa6",
   "metadata": {},
   "outputs": [
    {
     "name": "stdout",
     "output_type": "stream",
     "text": [
      "precison_mean = 0.931, recall_mean= 0.799, f1_score_mean=0.86,roc_mean= 0.894\n"
     ]
    }
   ],
   "source": [
    "rf = RandomForestClassifier(random_state=RANDOM_STATE,n_estimators=500, n_jobs=-1, class_weight=\"balanced_subsample\")\n",
    "cv_score_model(cc_df,rf) # <<<<<<<<<<----------------- BASELINE"
   ]
  },
  {
   "cell_type": "code",
   "execution_count": 32,
   "id": "62336c1d-e618-4dbc-b073-8f3c9b9fdd82",
   "metadata": {},
   "outputs": [
    {
     "name": "stdout",
     "output_type": "stream",
     "text": [
      "precison_mean = 0.931, recall_mean= 0.798, f1_score_mean=0.859,roc_mean= 0.894\n"
     ]
    }
   ],
   "source": [
    "rf = RandomForestClassifier(random_state=RANDOM_STATE,n_estimators=550, n_jobs=-1, class_weight=\"balanced_subsample\")\n",
    "cv_score_model(cc_df,rf)"
   ]
  },
  {
   "cell_type": "code",
   "execution_count": 33,
   "id": "1fee9692-832a-488b-b0f3-99aa9c504aaf",
   "metadata": {},
   "outputs": [
    {
     "name": "stdout",
     "output_type": "stream",
     "text": [
      "precison_mean = 0.932, recall_mean= 0.798, f1_score_mean=0.86,roc_mean= 0.893\n"
     ]
    }
   ],
   "source": [
    "rf = RandomForestClassifier(random_state=RANDOM_STATE,n_estimators=600, n_jobs=-1, class_weight=\"balanced_subsample\")\n",
    "cv_score_model(cc_df,rf)"
   ]
  },
  {
   "cell_type": "code",
   "execution_count": 34,
   "id": "fd4f368e-3cfe-4608-b6a8-c115d1e5f541",
   "metadata": {},
   "outputs": [],
   "source": [
    "baseline =  RandomForestClassifier(random_state=RANDOM_STATE,n_estimators=500, n_jobs=-1, class_weight=\"balanced_subsample\")"
   ]
  },
  {
   "cell_type": "code",
   "execution_count": 35,
   "id": "0e6f8b0d-848f-44b1-a6ce-a6d5360480c0",
   "metadata": {},
   "outputs": [],
   "source": [
    "# data = {'number_of_estimators':[200,300,350,400,450,500,550,600],'f1_mean_score':[0.858,0.858,.859,.859,.859,.86,.859,.86],'roc_mean_Score':[0.892,0.892,.893,.893,.894,.894,.894,.893]}\n",
    "# df = pd.DataFrame(data)        \n",
    "        "
   ]
  },
  {
   "cell_type": "code",
   "execution_count": 36,
   "id": "dd493297-0ecc-4431-ad33-4aff9c2efefd",
   "metadata": {
    "collapsed": true,
    "jupyter": {
     "outputs_hidden": true
    },
    "tags": []
   },
   "outputs": [
    {
     "name": "stdout",
     "output_type": "stream",
     "text": [
      "Base model on Cross Validation split\n",
      "   number_of_estimators  f1_mean_score  roc_mean_Score\n",
      "0                   200          0.858           0.892\n",
      "1                   300          0.858           0.892\n",
      "2                   350          0.859           0.893\n",
      "3                   400          0.859           0.893\n",
      "4                   450          0.859           0.894\n",
      "5                   500          0.860           0.894\n",
      "6                   550          0.859           0.894\n",
      "7                   600          0.860           0.893\n"
     ]
    }
   ],
   "source": [
    "# print('Base model on Cross Validation split')\n",
    "# print(df)\n"
   ]
  },
  {
   "cell_type": "markdown",
   "id": "8c9fd945-07d3-4cfa-8368-8d143219d7ca",
   "metadata": {},
   "source": [
    "## [E3][Feat Transformaton and Selection] Best Base model  - CV Evaluation/selection of feature(s)"
   ]
  },
  {
   "cell_type": "markdown",
   "id": "e6eb66d9-3b6c-416f-b797-90f0b89efe34",
   "metadata": {},
   "source": [
    "#### [E3.1] Removing outliers"
   ]
  },
  {
   "cell_type": "code",
   "execution_count": 37,
   "id": "14d3afd2-5d40-4b27-bb5d-6c63543490a4",
   "metadata": {},
   "outputs": [],
   "source": [
    "cc_df = cate_type(credit_card_dataset)\n",
    "cc_df = remove_outliers_from_num_columns(cc_df)"
   ]
  },
  {
   "cell_type": "code",
   "execution_count": 38,
   "id": "9cdded4a-65d8-40f4-8162-854eca5c2f25",
   "metadata": {},
   "outputs": [
    {
     "data": {
      "text/plain": [
       "Index(['Attrition_Flag', 'Customer_Age', 'Gender', 'Dependent_count',\n",
       "       'Education_Level', 'Marital_Status', 'Income_Category', 'Card_Category',\n",
       "       'Months_on_book', 'Total_Relationship_Count', 'Months_Inactive_12_mon',\n",
       "       'Contacts_Count_12_mon', 'Credit_Limit', 'Total_Revolving_Bal',\n",
       "       'Avg_Open_To_Buy', 'Total_Amt_Chng_Q4_Q1', 'Total_Trans_Amt',\n",
       "       'Total_Trans_Ct', 'Total_Ct_Chng_Q4_Q1', 'Avg_Utilization_Ratio'],\n",
       "      dtype='object')"
      ]
     },
     "execution_count": 38,
     "metadata": {},
     "output_type": "execute_result"
    }
   ],
   "source": [
    "cc_df.columns"
   ]
  },
  {
   "cell_type": "code",
   "execution_count": 39,
   "id": "19517013-4812-4633-a25f-6f4a24599a2c",
   "metadata": {},
   "outputs": [
    {
     "name": "stdout",
     "output_type": "stream",
     "text": [
      "precison_mean = 0.924, recall_mean= 0.801, f1_score_mean=0.858,roc_mean= 0.894\n"
     ]
    }
   ],
   "source": [
    "cv_score_model(cc_df,baseline)"
   ]
  },
  {
   "cell_type": "markdown",
   "id": "0ace9d02-c4d9-437a-bfcc-1af506c534e9",
   "metadata": {
    "toc-hr-collapsed": true
   },
   "source": [
    "#### [E3.2] Standard Scaler"
   ]
  },
  {
   "cell_type": "code",
   "execution_count": 40,
   "id": "f274dca9-d179-4aa6-9f32-28084fabab74",
   "metadata": {},
   "outputs": [
    {
     "name": "stdout",
     "output_type": "stream",
     "text": [
      "precison_mean = 0.928, recall_mean= 0.801, f1_score_mean=0.86,roc_mean= 0.894\n"
     ]
    }
   ],
   "source": [
    "cc_df = cate_type(credit_card_dataset)\n",
    "cc_df = stan_scal(cc_df)\n",
    "\n",
    "cv_score_model(cc_df,baseline)"
   ]
  },
  {
   "cell_type": "markdown",
   "id": "90190b79-6bc2-41e5-a3e4-56e95d435e55",
   "metadata": {},
   "source": [
    "#### [E3.3] Adding new feature"
   ]
  },
  {
   "cell_type": "code",
   "execution_count": 41,
   "id": "c02fd44d-de50-4c62-83e0-eea521be3883",
   "metadata": {},
   "outputs": [],
   "source": [
    "def new_feat(df):\n",
    "    df['avg_trans']= df['Total_Trans_Amt']/df['Total_Trans_Ct']\n",
    "    return df"
   ]
  },
  {
   "cell_type": "code",
   "execution_count": 42,
   "id": "64672091-9214-447e-8a00-3ca95af23e33",
   "metadata": {},
   "outputs": [],
   "source": [
    "cc_df = cate_type(credit_card_dataset) #original dataset with no manipulation\n",
    "cc_df = new_feat(cc_df)"
   ]
  },
  {
   "cell_type": "code",
   "execution_count": 43,
   "id": "d867f6b7-ceb8-4ae5-8d3a-749b21b3fc78",
   "metadata": {},
   "outputs": [
    {
     "name": "stdout",
     "output_type": "stream",
     "text": [
      "precison_mean = 0.932, recall_mean= 0.814, f1_score_mean=0.869,roc_mean= 0.901\n"
     ]
    }
   ],
   "source": [
    "cv_score_model(cc_df, baseline)"
   ]
  },
  {
   "cell_type": "markdown",
   "id": "38cd4f9b-c735-4bd4-a61c-d7d5e351686e",
   "metadata": {},
   "source": [
    "#### [E3.4] Keeping most important features - on best base model - CV evaulation "
   ]
  },
  {
   "cell_type": "code",
   "execution_count": 44,
   "id": "2d5e94e6-72ec-4ccc-bcf6-b2719fbc7277",
   "metadata": {},
   "outputs": [],
   "source": [
    "def feat_imp(model, df):\n",
    "    #drop label column\n",
    "    df = df.drop(['Attrition_Flag'],axis=1)\n",
    "    \n",
    "    #storing feature importance in a dataframe\n",
    "    \n",
    "    f = pd.DataFrame({'Names':df.columns,'Importance':model.feature_importances_})\n",
    "    \n",
    "    #sorting as per feature importance value\n",
    "    f = f.sort_values(by='Importance', ascending=False)\n",
    "    return f"
   ]
  },
  {
   "cell_type": "code",
   "execution_count": 45,
   "id": "4537bdb3-5d4e-4e92-9872-d2156eed20c3",
   "metadata": {},
   "outputs": [],
   "source": [
    "data = {'Changes':['Outliers Removed','Standard scaler applied','Feature addition'],'F1_mean_score':[.858,.86,.869],'Roc mean score':[.894,.894,.901]}"
   ]
  },
  {
   "cell_type": "code",
   "execution_count": 46,
   "id": "8157049f-682b-499b-9bb5-f6da9002e25c",
   "metadata": {},
   "outputs": [],
   "source": [
    "df = pd.DataFrame(data)"
   ]
  },
  {
   "cell_type": "code",
   "execution_count": null,
   "id": "78870daa-cbd2-4d42-ab66-854bcf9e334d",
   "metadata": {},
   "outputs": [],
   "source": []
  },
  {
   "cell_type": "markdown",
   "id": "3a2f9756-de2b-4cd6-8f19-c302b1fd8f44",
   "metadata": {},
   "source": [
    "#### [E3.5] Combining options of feature engineering "
   ]
  },
  {
   "cell_type": "code",
   "execution_count": 47,
   "id": "9280a0c5-76f4-4818-8f47-a03d335d7a7b",
   "metadata": {},
   "outputs": [],
   "source": [
    "def complete_feat_eng(df):\n",
    "    cc_df = cate_type(df)\n",
    "    cc_df = new_feat(cc_df)\n",
    "    cc_df = stan_scal(cc_df)\n",
    "    assert set(df.columns).issubset(set(cc_df.columns)) \n",
    "    return cc_df"
   ]
  },
  {
   "cell_type": "code",
   "execution_count": 48,
   "id": "9d875f15-f83a-4076-96fc-42cd4f5e2142",
   "metadata": {},
   "outputs": [
    {
     "data": {
      "text/html": [
       "<div>\n",
       "<style scoped>\n",
       "    .dataframe tbody tr th:only-of-type {\n",
       "        vertical-align: middle;\n",
       "    }\n",
       "\n",
       "    .dataframe tbody tr th {\n",
       "        vertical-align: top;\n",
       "    }\n",
       "\n",
       "    .dataframe thead th {\n",
       "        text-align: right;\n",
       "    }\n",
       "</style>\n",
       "<table border=\"1\" class=\"dataframe\">\n",
       "  <thead>\n",
       "    <tr style=\"text-align: right;\">\n",
       "      <th></th>\n",
       "      <th>Attrition_Flag</th>\n",
       "      <th>Customer_Age</th>\n",
       "      <th>Gender</th>\n",
       "      <th>Dependent_count</th>\n",
       "      <th>Education_Level</th>\n",
       "      <th>Marital_Status</th>\n",
       "      <th>Income_Category</th>\n",
       "      <th>Card_Category</th>\n",
       "      <th>Months_on_book</th>\n",
       "      <th>Total_Relationship_Count</th>\n",
       "      <th>Months_Inactive_12_mon</th>\n",
       "      <th>Contacts_Count_12_mon</th>\n",
       "      <th>Credit_Limit</th>\n",
       "      <th>Total_Revolving_Bal</th>\n",
       "      <th>Avg_Open_To_Buy</th>\n",
       "      <th>Total_Amt_Chng_Q4_Q1</th>\n",
       "      <th>Total_Trans_Amt</th>\n",
       "      <th>Total_Trans_Ct</th>\n",
       "      <th>Total_Ct_Chng_Q4_Q1</th>\n",
       "      <th>Avg_Utilization_Ratio</th>\n",
       "    </tr>\n",
       "  </thead>\n",
       "  <tbody>\n",
       "    <tr>\n",
       "      <th>0</th>\n",
       "      <td>0</td>\n",
       "      <td>45</td>\n",
       "      <td>M</td>\n",
       "      <td>3</td>\n",
       "      <td>High School</td>\n",
       "      <td>Married</td>\n",
       "      <td>$60K - $80K</td>\n",
       "      <td>Blue</td>\n",
       "      <td>39</td>\n",
       "      <td>5</td>\n",
       "      <td>1</td>\n",
       "      <td>3</td>\n",
       "      <td>12691.0</td>\n",
       "      <td>777</td>\n",
       "      <td>11914.0</td>\n",
       "      <td>1.335</td>\n",
       "      <td>1144</td>\n",
       "      <td>42</td>\n",
       "      <td>1.625</td>\n",
       "      <td>0.061</td>\n",
       "    </tr>\n",
       "    <tr>\n",
       "      <th>1</th>\n",
       "      <td>0</td>\n",
       "      <td>49</td>\n",
       "      <td>F</td>\n",
       "      <td>5</td>\n",
       "      <td>Graduate</td>\n",
       "      <td>Single</td>\n",
       "      <td>Less than $40K</td>\n",
       "      <td>Blue</td>\n",
       "      <td>44</td>\n",
       "      <td>6</td>\n",
       "      <td>1</td>\n",
       "      <td>2</td>\n",
       "      <td>8256.0</td>\n",
       "      <td>864</td>\n",
       "      <td>7392.0</td>\n",
       "      <td>1.541</td>\n",
       "      <td>1291</td>\n",
       "      <td>33</td>\n",
       "      <td>3.714</td>\n",
       "      <td>0.105</td>\n",
       "    </tr>\n",
       "    <tr>\n",
       "      <th>2</th>\n",
       "      <td>0</td>\n",
       "      <td>51</td>\n",
       "      <td>M</td>\n",
       "      <td>3</td>\n",
       "      <td>Graduate</td>\n",
       "      <td>Married</td>\n",
       "      <td>$80K - $120K</td>\n",
       "      <td>Blue</td>\n",
       "      <td>36</td>\n",
       "      <td>4</td>\n",
       "      <td>1</td>\n",
       "      <td>0</td>\n",
       "      <td>3418.0</td>\n",
       "      <td>0</td>\n",
       "      <td>3418.0</td>\n",
       "      <td>2.594</td>\n",
       "      <td>1887</td>\n",
       "      <td>20</td>\n",
       "      <td>2.333</td>\n",
       "      <td>0.000</td>\n",
       "    </tr>\n",
       "    <tr>\n",
       "      <th>3</th>\n",
       "      <td>0</td>\n",
       "      <td>40</td>\n",
       "      <td>F</td>\n",
       "      <td>4</td>\n",
       "      <td>High School</td>\n",
       "      <td>Unknown</td>\n",
       "      <td>Less than $40K</td>\n",
       "      <td>Blue</td>\n",
       "      <td>34</td>\n",
       "      <td>3</td>\n",
       "      <td>4</td>\n",
       "      <td>1</td>\n",
       "      <td>3313.0</td>\n",
       "      <td>2517</td>\n",
       "      <td>796.0</td>\n",
       "      <td>1.405</td>\n",
       "      <td>1171</td>\n",
       "      <td>20</td>\n",
       "      <td>2.333</td>\n",
       "      <td>0.760</td>\n",
       "    </tr>\n",
       "    <tr>\n",
       "      <th>4</th>\n",
       "      <td>0</td>\n",
       "      <td>40</td>\n",
       "      <td>M</td>\n",
       "      <td>3</td>\n",
       "      <td>Uneducated</td>\n",
       "      <td>Married</td>\n",
       "      <td>$60K - $80K</td>\n",
       "      <td>Blue</td>\n",
       "      <td>21</td>\n",
       "      <td>5</td>\n",
       "      <td>1</td>\n",
       "      <td>0</td>\n",
       "      <td>4716.0</td>\n",
       "      <td>0</td>\n",
       "      <td>4716.0</td>\n",
       "      <td>2.175</td>\n",
       "      <td>816</td>\n",
       "      <td>28</td>\n",
       "      <td>2.500</td>\n",
       "      <td>0.000</td>\n",
       "    </tr>\n",
       "  </tbody>\n",
       "</table>\n",
       "</div>"
      ],
      "text/plain": [
       "   Attrition_Flag  Customer_Age Gender  Dependent_count Education_Level  \\\n",
       "0               0            45      M                3     High School   \n",
       "1               0            49      F                5        Graduate   \n",
       "2               0            51      M                3        Graduate   \n",
       "3               0            40      F                4     High School   \n",
       "4               0            40      M                3      Uneducated   \n",
       "\n",
       "  Marital_Status Income_Category Card_Category  Months_on_book  \\\n",
       "0        Married     $60K - $80K          Blue              39   \n",
       "1         Single  Less than $40K          Blue              44   \n",
       "2        Married    $80K - $120K          Blue              36   \n",
       "3        Unknown  Less than $40K          Blue              34   \n",
       "4        Married     $60K - $80K          Blue              21   \n",
       "\n",
       "   Total_Relationship_Count  Months_Inactive_12_mon  Contacts_Count_12_mon  \\\n",
       "0                         5                       1                      3   \n",
       "1                         6                       1                      2   \n",
       "2                         4                       1                      0   \n",
       "3                         3                       4                      1   \n",
       "4                         5                       1                      0   \n",
       "\n",
       "   Credit_Limit  Total_Revolving_Bal  Avg_Open_To_Buy  Total_Amt_Chng_Q4_Q1  \\\n",
       "0       12691.0                  777          11914.0                 1.335   \n",
       "1        8256.0                  864           7392.0                 1.541   \n",
       "2        3418.0                    0           3418.0                 2.594   \n",
       "3        3313.0                 2517            796.0                 1.405   \n",
       "4        4716.0                    0           4716.0                 2.175   \n",
       "\n",
       "   Total_Trans_Amt  Total_Trans_Ct  Total_Ct_Chng_Q4_Q1  Avg_Utilization_Ratio  \n",
       "0             1144              42                1.625                  0.061  \n",
       "1             1291              33                3.714                  0.105  \n",
       "2             1887              20                2.333                  0.000  \n",
       "3             1171              20                2.333                  0.760  \n",
       "4              816              28                2.500                  0.000  "
      ]
     },
     "execution_count": 48,
     "metadata": {},
     "output_type": "execute_result"
    }
   ],
   "source": [
    "credit_card_dataset.head()"
   ]
  },
  {
   "cell_type": "code",
   "execution_count": 49,
   "id": "7be301e7-9a6c-4f9a-8105-acd86d975454",
   "metadata": {},
   "outputs": [
    {
     "data": {
      "text/html": [
       "<div>\n",
       "<style scoped>\n",
       "    .dataframe tbody tr th:only-of-type {\n",
       "        vertical-align: middle;\n",
       "    }\n",
       "\n",
       "    .dataframe tbody tr th {\n",
       "        vertical-align: top;\n",
       "    }\n",
       "\n",
       "    .dataframe thead th {\n",
       "        text-align: right;\n",
       "    }\n",
       "</style>\n",
       "<table border=\"1\" class=\"dataframe\">\n",
       "  <thead>\n",
       "    <tr style=\"text-align: right;\">\n",
       "      <th></th>\n",
       "      <th>Gender</th>\n",
       "      <th>Education_Level</th>\n",
       "      <th>Marital_Status</th>\n",
       "      <th>Income_Category</th>\n",
       "      <th>Card_Category</th>\n",
       "      <th>Customer_Age</th>\n",
       "      <th>Dependent_count</th>\n",
       "      <th>Months_on_book</th>\n",
       "      <th>Total_Relationship_Count</th>\n",
       "      <th>Months_Inactive_12_mon</th>\n",
       "      <th>...</th>\n",
       "      <th>Credit_Limit</th>\n",
       "      <th>Total_Revolving_Bal</th>\n",
       "      <th>Avg_Open_To_Buy</th>\n",
       "      <th>Total_Amt_Chng_Q4_Q1</th>\n",
       "      <th>Total_Trans_Amt</th>\n",
       "      <th>Total_Trans_Ct</th>\n",
       "      <th>Total_Ct_Chng_Q4_Q1</th>\n",
       "      <th>Avg_Utilization_Ratio</th>\n",
       "      <th>avg_trans</th>\n",
       "      <th>Attrition_Flag</th>\n",
       "    </tr>\n",
       "  </thead>\n",
       "  <tbody>\n",
       "    <tr>\n",
       "      <th>0</th>\n",
       "      <td>1</td>\n",
       "      <td>3</td>\n",
       "      <td>1</td>\n",
       "      <td>2</td>\n",
       "      <td>0</td>\n",
       "      <td>-0.165406</td>\n",
       "      <td>0.503368</td>\n",
       "      <td>0.384621</td>\n",
       "      <td>0.763943</td>\n",
       "      <td>-1.327136</td>\n",
       "      <td>...</td>\n",
       "      <td>0.446622</td>\n",
       "      <td>-0.473422</td>\n",
       "      <td>0.488971</td>\n",
       "      <td>2.623494</td>\n",
       "      <td>-0.959707</td>\n",
       "      <td>-0.973895</td>\n",
       "      <td>3.834003</td>\n",
       "      <td>-0.775882</td>\n",
       "      <td>-1.339801</td>\n",
       "      <td>0</td>\n",
       "    </tr>\n",
       "    <tr>\n",
       "      <th>1</th>\n",
       "      <td>0</td>\n",
       "      <td>2</td>\n",
       "      <td>2</td>\n",
       "      <td>4</td>\n",
       "      <td>0</td>\n",
       "      <td>0.333570</td>\n",
       "      <td>2.043199</td>\n",
       "      <td>1.010715</td>\n",
       "      <td>1.407306</td>\n",
       "      <td>-1.327136</td>\n",
       "      <td>...</td>\n",
       "      <td>-0.041367</td>\n",
       "      <td>-0.366667</td>\n",
       "      <td>-0.008486</td>\n",
       "      <td>3.563293</td>\n",
       "      <td>-0.916433</td>\n",
       "      <td>-1.357340</td>\n",
       "      <td>12.608573</td>\n",
       "      <td>-0.616276</td>\n",
       "      <td>-0.889732</td>\n",
       "      <td>0</td>\n",
       "    </tr>\n",
       "    <tr>\n",
       "      <th>2</th>\n",
       "      <td>1</td>\n",
       "      <td>2</td>\n",
       "      <td>1</td>\n",
       "      <td>3</td>\n",
       "      <td>0</td>\n",
       "      <td>0.583058</td>\n",
       "      <td>0.503368</td>\n",
       "      <td>0.008965</td>\n",
       "      <td>0.120579</td>\n",
       "      <td>-1.327136</td>\n",
       "      <td>...</td>\n",
       "      <td>-0.573698</td>\n",
       "      <td>-1.426858</td>\n",
       "      <td>-0.445658</td>\n",
       "      <td>8.367214</td>\n",
       "      <td>-0.740982</td>\n",
       "      <td>-1.911206</td>\n",
       "      <td>6.807864</td>\n",
       "      <td>-0.997155</td>\n",
       "      <td>1.202038</td>\n",
       "      <td>0</td>\n",
       "    </tr>\n",
       "    <tr>\n",
       "      <th>3</th>\n",
       "      <td>0</td>\n",
       "      <td>3</td>\n",
       "      <td>3</td>\n",
       "      <td>4</td>\n",
       "      <td>0</td>\n",
       "      <td>-0.789126</td>\n",
       "      <td>1.273283</td>\n",
       "      <td>-0.241473</td>\n",
       "      <td>-0.522785</td>\n",
       "      <td>1.641478</td>\n",
       "      <td>...</td>\n",
       "      <td>-0.585251</td>\n",
       "      <td>1.661686</td>\n",
       "      <td>-0.734100</td>\n",
       "      <td>2.942843</td>\n",
       "      <td>-0.951758</td>\n",
       "      <td>-1.911206</td>\n",
       "      <td>6.807864</td>\n",
       "      <td>1.759686</td>\n",
       "      <td>-0.153874</td>\n",
       "      <td>0</td>\n",
       "    </tr>\n",
       "    <tr>\n",
       "      <th>4</th>\n",
       "      <td>1</td>\n",
       "      <td>5</td>\n",
       "      <td>1</td>\n",
       "      <td>2</td>\n",
       "      <td>0</td>\n",
       "      <td>-0.789126</td>\n",
       "      <td>0.503368</td>\n",
       "      <td>-1.869317</td>\n",
       "      <td>0.763943</td>\n",
       "      <td>-1.327136</td>\n",
       "      <td>...</td>\n",
       "      <td>-0.430877</td>\n",
       "      <td>-1.426858</td>\n",
       "      <td>-0.302868</td>\n",
       "      <td>6.455682</td>\n",
       "      <td>-1.056263</td>\n",
       "      <td>-1.570365</td>\n",
       "      <td>7.509325</td>\n",
       "      <td>-0.997155</td>\n",
       "      <td>-1.267659</td>\n",
       "      <td>0</td>\n",
       "    </tr>\n",
       "  </tbody>\n",
       "</table>\n",
       "<p>5 rows × 21 columns</p>\n",
       "</div>"
      ],
      "text/plain": [
       "   Gender  Education_Level  Marital_Status  Income_Category  Card_Category  \\\n",
       "0       1                3               1                2              0   \n",
       "1       0                2               2                4              0   \n",
       "2       1                2               1                3              0   \n",
       "3       0                3               3                4              0   \n",
       "4       1                5               1                2              0   \n",
       "\n",
       "   Customer_Age  Dependent_count  Months_on_book  Total_Relationship_Count  \\\n",
       "0     -0.165406         0.503368        0.384621                  0.763943   \n",
       "1      0.333570         2.043199        1.010715                  1.407306   \n",
       "2      0.583058         0.503368        0.008965                  0.120579   \n",
       "3     -0.789126         1.273283       -0.241473                 -0.522785   \n",
       "4     -0.789126         0.503368       -1.869317                  0.763943   \n",
       "\n",
       "   Months_Inactive_12_mon  ...  Credit_Limit  Total_Revolving_Bal  \\\n",
       "0               -1.327136  ...      0.446622            -0.473422   \n",
       "1               -1.327136  ...     -0.041367            -0.366667   \n",
       "2               -1.327136  ...     -0.573698            -1.426858   \n",
       "3                1.641478  ...     -0.585251             1.661686   \n",
       "4               -1.327136  ...     -0.430877            -1.426858   \n",
       "\n",
       "   Avg_Open_To_Buy  Total_Amt_Chng_Q4_Q1  Total_Trans_Amt  Total_Trans_Ct  \\\n",
       "0         0.488971              2.623494        -0.959707       -0.973895   \n",
       "1        -0.008486              3.563293        -0.916433       -1.357340   \n",
       "2        -0.445658              8.367214        -0.740982       -1.911206   \n",
       "3        -0.734100              2.942843        -0.951758       -1.911206   \n",
       "4        -0.302868              6.455682        -1.056263       -1.570365   \n",
       "\n",
       "   Total_Ct_Chng_Q4_Q1  Avg_Utilization_Ratio  avg_trans  Attrition_Flag  \n",
       "0             3.834003              -0.775882  -1.339801               0  \n",
       "1            12.608573              -0.616276  -0.889732               0  \n",
       "2             6.807864              -0.997155   1.202038               0  \n",
       "3             6.807864               1.759686  -0.153874               0  \n",
       "4             7.509325              -0.997155  -1.267659               0  \n",
       "\n",
       "[5 rows x 21 columns]"
      ]
     },
     "execution_count": 49,
     "metadata": {},
     "output_type": "execute_result"
    }
   ],
   "source": [
    "cc_df = complete_feat_eng(credit_card_dataset)\n",
    "cc_df.head()"
   ]
  },
  {
   "cell_type": "code",
   "execution_count": 50,
   "id": "5d54a28b-6129-4e62-987d-31b9b81ff2aa",
   "metadata": {},
   "outputs": [
    {
     "name": "stdout",
     "output_type": "stream",
     "text": [
      "precison_mean = 0.936, recall_mean= 0.824, f1_score_mean=0.877,roc_mean= 0.907\n"
     ]
    }
   ],
   "source": [
    "cv_score_model(cc_df, baseline)"
   ]
  },
  {
   "cell_type": "code",
   "execution_count": 51,
   "id": "51ce26de-d1e2-4e99-baa8-8df66ec7ca5e",
   "metadata": {},
   "outputs": [
    {
     "data": {
      "text/html": [
       "<div>\n",
       "<style scoped>\n",
       "    .dataframe tbody tr th:only-of-type {\n",
       "        vertical-align: middle;\n",
       "    }\n",
       "\n",
       "    .dataframe tbody tr th {\n",
       "        vertical-align: top;\n",
       "    }\n",
       "\n",
       "    .dataframe thead th {\n",
       "        text-align: right;\n",
       "    }\n",
       "</style>\n",
       "<table border=\"1\" class=\"dataframe\">\n",
       "  <thead>\n",
       "    <tr style=\"text-align: right;\">\n",
       "      <th></th>\n",
       "      <th>Names</th>\n",
       "      <th>Importance</th>\n",
       "    </tr>\n",
       "  </thead>\n",
       "  <tbody>\n",
       "    <tr>\n",
       "      <th>1</th>\n",
       "      <td>Education_Level</td>\n",
       "      <td>0.007768</td>\n",
       "    </tr>\n",
       "    <tr>\n",
       "      <th>3</th>\n",
       "      <td>Income_Category</td>\n",
       "      <td>0.006911</td>\n",
       "    </tr>\n",
       "    <tr>\n",
       "      <th>2</th>\n",
       "      <td>Marital_Status</td>\n",
       "      <td>0.006190</td>\n",
       "    </tr>\n",
       "    <tr>\n",
       "      <th>0</th>\n",
       "      <td>Gender</td>\n",
       "      <td>0.005437</td>\n",
       "    </tr>\n",
       "    <tr>\n",
       "      <th>4</th>\n",
       "      <td>Card_Category</td>\n",
       "      <td>0.001536</td>\n",
       "    </tr>\n",
       "  </tbody>\n",
       "</table>\n",
       "</div>"
      ],
      "text/plain": [
       "             Names  Importance\n",
       "1  Education_Level    0.007768\n",
       "3  Income_Category    0.006911\n",
       "2   Marital_Status    0.006190\n",
       "0           Gender    0.005437\n",
       "4    Card_Category    0.001536"
      ]
     },
     "execution_count": 51,
     "metadata": {},
     "output_type": "execute_result"
    }
   ],
   "source": [
    "fimp = feat_imp(baseline, cc_df)\n",
    "fimp.tail()"
   ]
  },
  {
   "cell_type": "code",
   "execution_count": 52,
   "id": "3c944470-cd69-4472-bf19-24b9c47a925d",
   "metadata": {},
   "outputs": [],
   "source": [
    "fimp = feat_imp(baseline, cc_df)\n",
    "keep_cols = fimp[fimp.Importance>0.005].Names\n",
    "cc_df = cc_df[keep_cols]\n",
    "cc_df['Attrition_Flag'] = credit_card_dataset['Attrition_Flag']"
   ]
  },
  {
   "cell_type": "code",
   "execution_count": 53,
   "id": "36db8076-5d12-4cc5-b9ea-9840a7d47f5f",
   "metadata": {},
   "outputs": [
    {
     "name": "stdout",
     "output_type": "stream",
     "text": [
      "precison_mean = 0.935, recall_mean= 0.823, f1_score_mean=0.875,roc_mean= 0.906\n"
     ]
    }
   ],
   "source": [
    "cv_score_model(cc_df, baseline)"
   ]
  },
  {
   "cell_type": "markdown",
   "id": "9f644c70-d619-433c-ae38-7e3ec2a2af53",
   "metadata": {},
   "source": [
    "## [E4] [Best base model] Experiment on ADABoost, Random Forest, XGBoost - CV evaluation/selection for best model "
   ]
  },
  {
   "cell_type": "code",
   "execution_count": 54,
   "id": "7ccb5963-c6c1-4768-8a59-46d7efb92236",
   "metadata": {},
   "outputs": [],
   "source": [
    "ada = AdaBoostClassifier(random_state=RANDOM_STATE, n_estimators=500, learning_rate=0.1)\n",
    "xg = XGBClassifier(random_state = RANDOM_STATE, n_estimators=500, learning_rate=0.1)"
   ]
  },
  {
   "cell_type": "code",
   "execution_count": 55,
   "id": "5e0db171-8326-447a-81b7-f1afa16650a1",
   "metadata": {},
   "outputs": [
    {
     "name": "stdout",
     "output_type": "stream",
     "text": [
      "\n",
      "precison_mean = 0.915, recall_mean= 0.807, f1_score_mean=0.858,roc_mean= 0.896\n",
      "\n",
      "precison_mean = 0.936, recall_mean= 0.824, f1_score_mean=0.877,roc_mean= 0.907\n",
      "\n",
      "precison_mean = 0.932, recall_mean= 0.892, f1_score_mean=0.911,roc_mean= 0.94\n"
     ]
    }
   ],
   "source": [
    "cc_df = complete_feat_eng(credit_card_dataset)\n",
    "for i in [ada, baseline, xg]:\n",
    "    print()\n",
    "    cv_score_model(cc_df, i)\n",
    "    "
   ]
  },
  {
   "cell_type": "markdown",
   "id": "45e63c15-f21d-45d4-8345-9c5d0e37e7b8",
   "metadata": {},
   "source": [
    "**XGBoost clearly otperforms the random forest and ada boost**"
   ]
  },
  {
   "cell_type": "code",
   "execution_count": 56,
   "id": "8c8df71e-e34a-4492-9639-66b9ee0d440e",
   "metadata": {},
   "outputs": [],
   "source": [
    "data = {'Classifier':['Adaboost','RandomForest','XGB'],'f1 score mean':[.858,.877,.911],'roc score mean':[.896,.907,.94]}"
   ]
  },
  {
   "cell_type": "code",
   "execution_count": 57,
   "id": "175b1713-6708-4c1b-967f-cf2d1c653f03",
   "metadata": {},
   "outputs": [
    {
     "name": "stdout",
     "output_type": "stream",
     "text": [
      "     Classifier  f1 score mean  roc score mean\n",
      "0      Adaboost          0.858           0.896\n",
      "1  RandomForest          0.877           0.907\n",
      "2           XGB          0.911           0.940\n"
     ]
    }
   ],
   "source": [
    "print(pd.DataFrame(data))"
   ]
  },
  {
   "cell_type": "markdown",
   "id": "e2da24a7-58dc-4205-81da-87f9db8ae42d",
   "metadata": {},
   "source": [
    "## [E5] [Best hyperparm for chosen model in last step] Hyperparam variants - CV for eval/selection of hyperparams"
   ]
  },
  {
   "cell_type": "markdown",
   "id": "05f6eb8f-9a74-4b71-a3d1-2b0d59297f1e",
   "metadata": {},
   "source": [
    "#### [E5.1] XGBoost - Learning Rate Variant"
   ]
  },
  {
   "cell_type": "code",
   "execution_count": 58,
   "id": "4ecbad47-4224-4b8b-ab76-cad2fe36b429",
   "metadata": {},
   "outputs": [
    {
     "name": "stdout",
     "output_type": "stream",
     "text": [
      "precison_mean = 0.933, recall_mean= 0.892, f1_score_mean=0.912,roc_mean= 0.94\n"
     ]
    }
   ],
   "source": [
    "xg = XGBClassifier(random_state = RANDOM_STATE,learning_rate=0.09,  n_estimators=500, n_jobs=-1)\n",
    "cv_score_model(cc_df,xg)\n",
    "\n",
    "##------Baseline"
   ]
  },
  {
   "cell_type": "code",
   "execution_count": 59,
   "id": "9da63044-8211-479c-831b-f4cfdcde6954",
   "metadata": {},
   "outputs": [
    {
     "name": "stdout",
     "output_type": "stream",
     "text": [
      "precison_mean = 0.933, recall_mean= 0.89, f1_score_mean=0.911,roc_mean= 0.939\n"
     ]
    }
   ],
   "source": [
    "xg = XGBClassifier(random_state = RANDOM_STATE,learning_rate=0.08,  n_estimators=500, n_jobs=-1)\n",
    "cv_score_model(cc_df,xg)"
   ]
  },
  {
   "cell_type": "code",
   "execution_count": 60,
   "id": "a3b7f479-4f44-485f-8c71-8eb67ebad154",
   "metadata": {},
   "outputs": [
    {
     "name": "stdout",
     "output_type": "stream",
     "text": [
      "precison_mean = 0.934, recall_mean= 0.889, f1_score_mean=0.911,roc_mean= 0.939\n"
     ]
    }
   ],
   "source": [
    "xg = XGBClassifier(random_state = RANDOM_STATE,learning_rate=0.07,  n_estimators=500, n_jobs=-1)\n",
    "cv_score_model(cc_df,xg)"
   ]
  },
  {
   "cell_type": "code",
   "execution_count": 61,
   "id": "768082c8-8272-473d-957f-6d79575b8d83",
   "metadata": {},
   "outputs": [
    {
     "name": "stdout",
     "output_type": "stream",
     "text": [
      "precison_mean = 0.933, recall_mean= 0.888, f1_score_mean=0.91,roc_mean= 0.938\n"
     ]
    }
   ],
   "source": [
    "xg = XGBClassifier(random_state = RANDOM_STATE,learning_rate=0.06,  n_estimators=500, n_jobs=-1)\n",
    "cv_score_model(cc_df,xg)"
   ]
  },
  {
   "cell_type": "code",
   "execution_count": 62,
   "id": "3dc4d06b-7714-456b-92f0-93bfabafe85b",
   "metadata": {},
   "outputs": [],
   "source": [
    "data = {'Learning rate':[.09,.08,.07,.06],'roc score mean':[.94,.939,.939,.938],'f1 score mean':[.912,.911,.911,.91]}"
   ]
  },
  {
   "cell_type": "code",
   "execution_count": 63,
   "id": "4af31b3a-2c30-489d-a21e-83e132d6df69",
   "metadata": {},
   "outputs": [
    {
     "name": "stdout",
     "output_type": "stream",
     "text": [
      "   Learning rate  roc score mean  f1 score mean\n",
      "0           0.09           0.940          0.912\n",
      "1           0.08           0.939          0.911\n",
      "2           0.07           0.939          0.911\n",
      "3           0.06           0.938          0.910\n"
     ]
    }
   ],
   "source": [
    "print(pd.DataFrame(data))"
   ]
  },
  {
   "cell_type": "markdown",
   "id": "ee6662de-7b1e-4aa2-bc84-5fc058c09a19",
   "metadata": {},
   "source": [
    "### Controlling overfitting by controlling complexity"
   ]
  },
  {
   "cell_type": "markdown",
   "id": "a33179e8-e28b-4e66-9e89-4d11da707c6d",
   "metadata": {},
   "source": [
    "#### [E5.2] XGBoost - max_depth Variant (default -6)\n",
    "**More depth of a tree increases complexity,may lead to overfitting**\n"
   ]
  },
  {
   "cell_type": "code",
   "execution_count": 64,
   "id": "621cc6fe-718e-4553-8b5e-dadfd30ffa8a",
   "metadata": {},
   "outputs": [
    {
     "name": "stdout",
     "output_type": "stream",
     "text": [
      "precison_mean = 0.937, recall_mean= 0.891, f1_score_mean=0.913,roc_mean= 0.94\n"
     ]
    }
   ],
   "source": [
    "xg = XGBClassifier(random_state = RANDOM_STATE,learning_rate=0.09,  n_estimators=500, n_jobs=-1, max_depth=5)\n",
    "cv_score_model(cc_df,xg)"
   ]
  },
  {
   "cell_type": "code",
   "execution_count": 65,
   "id": "f609d90f-854a-434a-b28f-29cd0be6d2aa",
   "metadata": {},
   "outputs": [
    {
     "name": "stdout",
     "output_type": "stream",
     "text": [
      "precison_mean = 0.935, recall_mean= 0.891, f1_score_mean=0.912,roc_mean= 0.94\n"
     ]
    }
   ],
   "source": [
    "xg = XGBClassifier(random_state = RANDOM_STATE,learning_rate=0.09,  n_estimators=500, n_jobs=-1, max_depth=4)\n",
    "cv_score_model(cc_df,xg)"
   ]
  },
  {
   "cell_type": "code",
   "execution_count": 66,
   "id": "ad012759-f532-43aa-abc0-eaa2d581a17b",
   "metadata": {},
   "outputs": [
    {
     "name": "stdout",
     "output_type": "stream",
     "text": [
      "precison_mean = 0.933, recall_mean= 0.899, f1_score_mean=0.916,roc_mean= 0.943\n"
     ]
    }
   ],
   "source": [
    "xg = XGBClassifier(random_state = RANDOM_STATE,learning_rate=0.09,  n_estimators=500, n_jobs=-1, max_depth=3)\n",
    "cv_score_model(cc_df,xg)\n",
    "\n",
    "#max_depth=3 , slightly improves the metrics"
   ]
  },
  {
   "cell_type": "code",
   "execution_count": 67,
   "id": "f888561b-216b-4e98-b3e5-bfa563beb784",
   "metadata": {},
   "outputs": [
    {
     "name": "stdout",
     "output_type": "stream",
     "text": [
      "precison_mean = 0.939, recall_mean= 0.883, f1_score_mean=0.91,roc_mean= 0.936\n"
     ]
    }
   ],
   "source": [
    "xg = XGBClassifier(random_state = RANDOM_STATE,learning_rate=0.09,  n_estimators=500, n_jobs=-1, max_depth=2)\n",
    "cv_score_model(cc_df,xg)"
   ]
  },
  {
   "cell_type": "code",
   "execution_count": 68,
   "id": "54d95a46-ebc0-459d-b892-0b79d734dc00",
   "metadata": {},
   "outputs": [],
   "source": [
    "data= {'max depth':[5,4,3,2],'roc score mean':[.94,.94,.943,.936],'f1 score mean':[.913,.912,.916,.91]}"
   ]
  },
  {
   "cell_type": "code",
   "execution_count": 69,
   "id": "f12bfa38-869e-4d89-95ff-ff8aea8938ce",
   "metadata": {},
   "outputs": [
    {
     "name": "stdout",
     "output_type": "stream",
     "text": [
      "   max depth  roc score mean  f1 score mean\n",
      "0          5           0.940          0.913\n",
      "1          4           0.940          0.912\n",
      "2          3           0.943          0.916\n",
      "3          2           0.936          0.910\n"
     ]
    }
   ],
   "source": [
    "print(pd.DataFrame(data))"
   ]
  },
  {
   "cell_type": "markdown",
   "id": "1fa4489a-e96d-4960-bf91-849576f04d79",
   "metadata": {},
   "source": [
    "#### [E5.3] XGBoost - min_child_weight -(default-1)\n",
    "Minimum sum of instance weight (hessian) needed in a child. If the tree partition step results in a leaf node with the sum of instance weight less than min_child_weight, then the building process will give up further partitioning. In linear regression task, this simply corresponds to minimum number of instances needed to be in each node. The larger min_child_weight is, the more conservative the algorithm will be.\n",
    "\n",
    "range: [0,∞]\n"
   ]
  },
  {
   "cell_type": "code",
   "execution_count": 70,
   "id": "d2a115b8-79e5-4d69-a238-352f9e9ef74f",
   "metadata": {},
   "outputs": [
    {
     "name": "stdout",
     "output_type": "stream",
     "text": [
      "precison_mean = 0.929, recall_mean= 0.898, f1_score_mean=0.913,roc_mean= 0.942\n"
     ]
    }
   ],
   "source": [
    "xg = XGBClassifier(random_state = RANDOM_STATE,learning_rate=0.09,  n_estimators=500, n_jobs=-1, max_depth=3, min_child_weight=2)\n",
    "cv_score_model(cc_df,xg)\n"
   ]
  },
  {
   "cell_type": "code",
   "execution_count": 71,
   "id": "63b325e0-958a-4b02-b1cb-81c9fa2bc8d1",
   "metadata": {},
   "outputs": [
    {
     "name": "stdout",
     "output_type": "stream",
     "text": [
      "precison_mean = 0.929, recall_mean= 0.894, f1_score_mean=0.911,roc_mean= 0.941\n"
     ]
    }
   ],
   "source": [
    "xg = XGBClassifier(random_state = RANDOM_STATE,learning_rate=0.09,  n_estimators=500, n_jobs=-1, max_depth=3, min_child_weight=3)\n",
    "cv_score_model(cc_df,xg)\n"
   ]
  },
  {
   "cell_type": "code",
   "execution_count": 72,
   "id": "cda61566-41cf-4f59-9517-92474956c534",
   "metadata": {},
   "outputs": [
    {
     "name": "stdout",
     "output_type": "stream",
     "text": [
      "precison_mean = 0.934, recall_mean= 0.896, f1_score_mean=0.915,roc_mean= 0.942\n"
     ]
    }
   ],
   "source": [
    "xg = XGBClassifier(random_state = RANDOM_STATE,learning_rate=0.09,  n_estimators=500, n_jobs=-1, max_depth=3, min_child_weight=4)\n",
    "cv_score_model(cc_df,xg)\n"
   ]
  },
  {
   "cell_type": "code",
   "execution_count": 73,
   "id": "cdf6f30c-a51e-4896-acca-7c1e377ee574",
   "metadata": {},
   "outputs": [],
   "source": [
    "data = {'minimum child weight':[2,3,4], 'roc mean score':[.898,.894,.896],'f1 mean score':[.913,.911,.915]}"
   ]
  },
  {
   "cell_type": "code",
   "execution_count": 74,
   "id": "60b24add-19e6-4616-9cf1-b254272ff78c",
   "metadata": {},
   "outputs": [
    {
     "name": "stdout",
     "output_type": "stream",
     "text": [
      "   minimum child weight  roc mean score  f1 mean score\n",
      "0                     2           0.898          0.913\n",
      "1                     3           0.894          0.911\n",
      "2                     4           0.896          0.915\n"
     ]
    }
   ],
   "source": [
    "print(pd.DataFrame(data))"
   ]
  },
  {
   "cell_type": "markdown",
   "id": "6fd9d0be-16d2-43d3-b2f4-39cce0d68cdd",
   "metadata": {},
   "source": [
    "### Controlling overfitting by adding randomness,"
   ]
  },
  {
   "cell_type": "markdown",
   "id": "77ffe0c3-918f-4ac0-9f4c-5675a4885b27",
   "metadata": {},
   "source": [
    "#### [E5.4] XGBoost - subsample\n",
    "\n",
    "**Subsampling adds randomness ,reducing overfitt , default value=1**\n"
   ]
  },
  {
   "cell_type": "code",
   "execution_count": 75,
   "id": "94d7bebe-f4d9-480d-8f40-4455eb331d43",
   "metadata": {},
   "outputs": [
    {
     "name": "stdout",
     "output_type": "stream",
     "text": [
      "precison_mean = 0.93, recall_mean= 0.89, f1_score_mean=0.909,roc_mean= 0.939\n"
     ]
    }
   ],
   "source": [
    "xg = XGBClassifier(random_state = RANDOM_STATE,learning_rate=0.09,  n_estimators=500, n_jobs=-1, max_depth=3,subsample=0.4)\n",
    "cv_score_model(cc_df,xg)"
   ]
  },
  {
   "cell_type": "code",
   "execution_count": 76,
   "id": "eb588c72-8bc3-48d0-b9ce-df976572e12d",
   "metadata": {},
   "outputs": [
    {
     "name": "stdout",
     "output_type": "stream",
     "text": [
      "precison_mean = 0.934, recall_mean= 0.891, f1_score_mean=0.912,roc_mean= 0.939\n"
     ]
    }
   ],
   "source": [
    "xg = XGBClassifier(random_state = RANDOM_STATE,learning_rate=0.09,  n_estimators=500, n_jobs=-1, max_depth=3,subsample=0.5)\n",
    "cv_score_model(cc_df,xg)"
   ]
  },
  {
   "cell_type": "code",
   "execution_count": 77,
   "id": "e4ad58d4-d4fd-4d1e-a6fb-20bcf8ca2ab6",
   "metadata": {},
   "outputs": [
    {
     "name": "stdout",
     "output_type": "stream",
     "text": [
      "precison_mean = 0.934, recall_mean= 0.893, f1_score_mean=0.913,roc_mean= 0.94\n"
     ]
    }
   ],
   "source": [
    "xg = XGBClassifier(random_state = RANDOM_STATE,learning_rate=0.09,  n_estimators=500, n_jobs=-1, max_depth=3,subsample=0.6)\n",
    "cv_score_model(cc_df,xg)"
   ]
  },
  {
   "cell_type": "code",
   "execution_count": 78,
   "id": "b7ead4b4-8be1-4ff5-b752-bbb05158c8e3",
   "metadata": {},
   "outputs": [
    {
     "name": "stdout",
     "output_type": "stream",
     "text": [
      "precison_mean = 0.937, recall_mean= 0.896, f1_score_mean=0.916,roc_mean= 0.942\n"
     ]
    }
   ],
   "source": [
    "xg = XGBClassifier(random_state = RANDOM_STATE,learning_rate=0.09,  n_estimators=500, n_jobs=-1, max_depth=3,subsample=0.7)\n",
    "cv_score_model(cc_df,xg)"
   ]
  },
  {
   "cell_type": "code",
   "execution_count": 79,
   "id": "1a0c2405-65f9-4c16-b64e-21c43ebbf690",
   "metadata": {},
   "outputs": [],
   "source": [
    "data = {'subsample':[0.4,0.5,0.6,0.7],'f1 score mean':[.909,.912,.913,.916],'roc score mean':[.939,.939,.94,.943]}"
   ]
  },
  {
   "cell_type": "code",
   "execution_count": 80,
   "id": "e5d0b8bf-4439-4bea-9f8e-1339c646a21c",
   "metadata": {},
   "outputs": [
    {
     "name": "stdout",
     "output_type": "stream",
     "text": [
      "   subsample  f1 score mean  roc score mean\n",
      "0        0.4          0.909           0.939\n",
      "1        0.5          0.912           0.939\n",
      "2        0.6          0.913           0.940\n",
      "3        0.7          0.916           0.943\n"
     ]
    }
   ],
   "source": [
    "print(pd.DataFrame(data))"
   ]
  },
  {
   "cell_type": "markdown",
   "id": "e5f212d3-1e71-4c4f-947c-e003633df6f0",
   "metadata": {},
   "source": [
    "### Handling Imbalanced Dataset"
   ]
  },
  {
   "cell_type": "markdown",
   "id": "ce5aad4c-d56b-4484-aae1-1e6e1b3d7386",
   "metadata": {},
   "source": [
    "#### [E5.4] XGBoost - scale_pos_weight (default-1)"
   ]
  },
  {
   "cell_type": "code",
   "execution_count": 81,
   "id": "a1969953-dea2-4fc6-b73a-a39a94db7298",
   "metadata": {},
   "outputs": [],
   "source": [
    "ratio = float(np.sum(cc_df[\"Attrition_Flag\"] == 0)) / np.sum(cc_df[\"Attrition_Flag\"]==1)"
   ]
  },
  {
   "cell_type": "code",
   "execution_count": 82,
   "id": "b586ffa9-feeb-43b3-8039-127a88198a6f",
   "metadata": {},
   "outputs": [
    {
     "name": "stdout",
     "output_type": "stream",
     "text": [
      "precison_mean = 0.88, recall_mean= 0.944, f1_score_mean=0.911,roc_mean= 0.96\n"
     ]
    }
   ],
   "source": [
    "xg = XGBClassifier(random_state = RANDOM_STATE,learning_rate=0.09,  n_estimators=500, n_jobs=-1, max_depth=3,scale_pos_weight=ratio)\n",
    "cv_score_model(cc_df,xg)\n"
   ]
  },
  {
   "cell_type": "markdown",
   "id": "3eac6745-37c1-42d3-9f37-c3e4a59db71d",
   "metadata": {},
   "source": [
    "## [E6]Experiment- Holding out a test set -to evaluate overfit and underfit "
   ]
  },
  {
   "cell_type": "markdown",
   "id": "51617bcc-83d7-431f-ad1b-a7bc8b28eeed",
   "metadata": {},
   "source": [
    "## Functions"
   ]
  },
  {
   "cell_type": "markdown",
   "id": "fed9c09d-2f4a-4ca2-854d-8f1fb68c1a62",
   "metadata": {},
   "source": [
    "### 1. Apply feature engineering- whole dataset"
   ]
  },
  {
   "cell_type": "code",
   "execution_count": 83,
   "id": "bf42df2d-8676-4b5e-9216-1617d274cd79",
   "metadata": {},
   "outputs": [],
   "source": [
    "cc_df = complete_feat_eng(credit_card_dataset) # this will convert to categoty type data, add new feature and apply standard scalar "
   ]
  },
  {
   "cell_type": "code",
   "execution_count": 84,
   "id": "d05f039f-2409-4ed3-a086-a8a0e4236335",
   "metadata": {},
   "outputs": [
    {
     "data": {
      "text/html": [
       "<div>\n",
       "<style scoped>\n",
       "    .dataframe tbody tr th:only-of-type {\n",
       "        vertical-align: middle;\n",
       "    }\n",
       "\n",
       "    .dataframe tbody tr th {\n",
       "        vertical-align: top;\n",
       "    }\n",
       "\n",
       "    .dataframe thead th {\n",
       "        text-align: right;\n",
       "    }\n",
       "</style>\n",
       "<table border=\"1\" class=\"dataframe\">\n",
       "  <thead>\n",
       "    <tr style=\"text-align: right;\">\n",
       "      <th></th>\n",
       "      <th>Gender</th>\n",
       "      <th>Education_Level</th>\n",
       "      <th>Marital_Status</th>\n",
       "      <th>Income_Category</th>\n",
       "      <th>Card_Category</th>\n",
       "      <th>Customer_Age</th>\n",
       "      <th>Dependent_count</th>\n",
       "      <th>Months_on_book</th>\n",
       "      <th>Total_Relationship_Count</th>\n",
       "      <th>Months_Inactive_12_mon</th>\n",
       "      <th>...</th>\n",
       "      <th>Credit_Limit</th>\n",
       "      <th>Total_Revolving_Bal</th>\n",
       "      <th>Avg_Open_To_Buy</th>\n",
       "      <th>Total_Amt_Chng_Q4_Q1</th>\n",
       "      <th>Total_Trans_Amt</th>\n",
       "      <th>Total_Trans_Ct</th>\n",
       "      <th>Total_Ct_Chng_Q4_Q1</th>\n",
       "      <th>Avg_Utilization_Ratio</th>\n",
       "      <th>avg_trans</th>\n",
       "      <th>Attrition_Flag</th>\n",
       "    </tr>\n",
       "  </thead>\n",
       "  <tbody>\n",
       "    <tr>\n",
       "      <th>0</th>\n",
       "      <td>1</td>\n",
       "      <td>3</td>\n",
       "      <td>1</td>\n",
       "      <td>2</td>\n",
       "      <td>0</td>\n",
       "      <td>-0.165406</td>\n",
       "      <td>0.503368</td>\n",
       "      <td>0.384621</td>\n",
       "      <td>0.763943</td>\n",
       "      <td>-1.327136</td>\n",
       "      <td>...</td>\n",
       "      <td>0.446622</td>\n",
       "      <td>-0.473422</td>\n",
       "      <td>0.488971</td>\n",
       "      <td>2.623494</td>\n",
       "      <td>-0.959707</td>\n",
       "      <td>-0.973895</td>\n",
       "      <td>3.834003</td>\n",
       "      <td>-0.775882</td>\n",
       "      <td>-1.339801</td>\n",
       "      <td>0</td>\n",
       "    </tr>\n",
       "    <tr>\n",
       "      <th>1</th>\n",
       "      <td>0</td>\n",
       "      <td>2</td>\n",
       "      <td>2</td>\n",
       "      <td>4</td>\n",
       "      <td>0</td>\n",
       "      <td>0.333570</td>\n",
       "      <td>2.043199</td>\n",
       "      <td>1.010715</td>\n",
       "      <td>1.407306</td>\n",
       "      <td>-1.327136</td>\n",
       "      <td>...</td>\n",
       "      <td>-0.041367</td>\n",
       "      <td>-0.366667</td>\n",
       "      <td>-0.008486</td>\n",
       "      <td>3.563293</td>\n",
       "      <td>-0.916433</td>\n",
       "      <td>-1.357340</td>\n",
       "      <td>12.608573</td>\n",
       "      <td>-0.616276</td>\n",
       "      <td>-0.889732</td>\n",
       "      <td>0</td>\n",
       "    </tr>\n",
       "    <tr>\n",
       "      <th>2</th>\n",
       "      <td>1</td>\n",
       "      <td>2</td>\n",
       "      <td>1</td>\n",
       "      <td>3</td>\n",
       "      <td>0</td>\n",
       "      <td>0.583058</td>\n",
       "      <td>0.503368</td>\n",
       "      <td>0.008965</td>\n",
       "      <td>0.120579</td>\n",
       "      <td>-1.327136</td>\n",
       "      <td>...</td>\n",
       "      <td>-0.573698</td>\n",
       "      <td>-1.426858</td>\n",
       "      <td>-0.445658</td>\n",
       "      <td>8.367214</td>\n",
       "      <td>-0.740982</td>\n",
       "      <td>-1.911206</td>\n",
       "      <td>6.807864</td>\n",
       "      <td>-0.997155</td>\n",
       "      <td>1.202038</td>\n",
       "      <td>0</td>\n",
       "    </tr>\n",
       "    <tr>\n",
       "      <th>3</th>\n",
       "      <td>0</td>\n",
       "      <td>3</td>\n",
       "      <td>3</td>\n",
       "      <td>4</td>\n",
       "      <td>0</td>\n",
       "      <td>-0.789126</td>\n",
       "      <td>1.273283</td>\n",
       "      <td>-0.241473</td>\n",
       "      <td>-0.522785</td>\n",
       "      <td>1.641478</td>\n",
       "      <td>...</td>\n",
       "      <td>-0.585251</td>\n",
       "      <td>1.661686</td>\n",
       "      <td>-0.734100</td>\n",
       "      <td>2.942843</td>\n",
       "      <td>-0.951758</td>\n",
       "      <td>-1.911206</td>\n",
       "      <td>6.807864</td>\n",
       "      <td>1.759686</td>\n",
       "      <td>-0.153874</td>\n",
       "      <td>0</td>\n",
       "    </tr>\n",
       "    <tr>\n",
       "      <th>4</th>\n",
       "      <td>1</td>\n",
       "      <td>5</td>\n",
       "      <td>1</td>\n",
       "      <td>2</td>\n",
       "      <td>0</td>\n",
       "      <td>-0.789126</td>\n",
       "      <td>0.503368</td>\n",
       "      <td>-1.869317</td>\n",
       "      <td>0.763943</td>\n",
       "      <td>-1.327136</td>\n",
       "      <td>...</td>\n",
       "      <td>-0.430877</td>\n",
       "      <td>-1.426858</td>\n",
       "      <td>-0.302868</td>\n",
       "      <td>6.455682</td>\n",
       "      <td>-1.056263</td>\n",
       "      <td>-1.570365</td>\n",
       "      <td>7.509325</td>\n",
       "      <td>-0.997155</td>\n",
       "      <td>-1.267659</td>\n",
       "      <td>0</td>\n",
       "    </tr>\n",
       "  </tbody>\n",
       "</table>\n",
       "<p>5 rows × 21 columns</p>\n",
       "</div>"
      ],
      "text/plain": [
       "   Gender  Education_Level  Marital_Status  Income_Category  Card_Category  \\\n",
       "0       1                3               1                2              0   \n",
       "1       0                2               2                4              0   \n",
       "2       1                2               1                3              0   \n",
       "3       0                3               3                4              0   \n",
       "4       1                5               1                2              0   \n",
       "\n",
       "   Customer_Age  Dependent_count  Months_on_book  Total_Relationship_Count  \\\n",
       "0     -0.165406         0.503368        0.384621                  0.763943   \n",
       "1      0.333570         2.043199        1.010715                  1.407306   \n",
       "2      0.583058         0.503368        0.008965                  0.120579   \n",
       "3     -0.789126         1.273283       -0.241473                 -0.522785   \n",
       "4     -0.789126         0.503368       -1.869317                  0.763943   \n",
       "\n",
       "   Months_Inactive_12_mon  ...  Credit_Limit  Total_Revolving_Bal  \\\n",
       "0               -1.327136  ...      0.446622            -0.473422   \n",
       "1               -1.327136  ...     -0.041367            -0.366667   \n",
       "2               -1.327136  ...     -0.573698            -1.426858   \n",
       "3                1.641478  ...     -0.585251             1.661686   \n",
       "4               -1.327136  ...     -0.430877            -1.426858   \n",
       "\n",
       "   Avg_Open_To_Buy  Total_Amt_Chng_Q4_Q1  Total_Trans_Amt  Total_Trans_Ct  \\\n",
       "0         0.488971              2.623494        -0.959707       -0.973895   \n",
       "1        -0.008486              3.563293        -0.916433       -1.357340   \n",
       "2        -0.445658              8.367214        -0.740982       -1.911206   \n",
       "3        -0.734100              2.942843        -0.951758       -1.911206   \n",
       "4        -0.302868              6.455682        -1.056263       -1.570365   \n",
       "\n",
       "   Total_Ct_Chng_Q4_Q1  Avg_Utilization_Ratio  avg_trans  Attrition_Flag  \n",
       "0             3.834003              -0.775882  -1.339801               0  \n",
       "1            12.608573              -0.616276  -0.889732               0  \n",
       "2             6.807864              -0.997155   1.202038               0  \n",
       "3             6.807864               1.759686  -0.153874               0  \n",
       "4             7.509325              -0.997155  -1.267659               0  \n",
       "\n",
       "[5 rows x 21 columns]"
      ]
     },
     "execution_count": 84,
     "metadata": {},
     "output_type": "execute_result"
    }
   ],
   "source": [
    "cc_df.head()"
   ]
  },
  {
   "cell_type": "code",
   "execution_count": 85,
   "id": "e6eeca4b-640c-4505-872b-86842333826a",
   "metadata": {},
   "outputs": [
    {
     "data": {
      "text/plain": [
       "((10127, 21), (10127, 20))"
      ]
     },
     "execution_count": 85,
     "metadata": {},
     "output_type": "execute_result"
    }
   ],
   "source": [
    "cc_df.shape,credit_card_dataset.shape"
   ]
  },
  {
   "cell_type": "markdown",
   "id": "84ca3e72-68dd-477b-b46d-3287846e27a8",
   "metadata": {},
   "source": [
    "### 2. Split dataset into train and test"
   ]
  },
  {
   "cell_type": "code",
   "execution_count": 86,
   "id": "e326379d-b62d-48da-b92c-02893e8a2ca7",
   "metadata": {},
   "outputs": [
    {
     "name": "stdout",
     "output_type": "stream",
     "text": [
      "(9114, 20) (1013, 20) (9114,) (1013,)\n"
     ]
    }
   ],
   "source": [
    "X_train, X_test_f, y_train, y_test_f = ttsplit(cc_df, test_size=0.1) # we are divinding dataset into  train -90% and test -10% of the dataset"
   ]
  },
  {
   "cell_type": "markdown",
   "id": "6a149da7-1595-4b8c-ae91-ad1a8cc1d83f",
   "metadata": {},
   "source": [
    "### 3. CV Evaluation on train set"
   ]
  },
  {
   "cell_type": "code",
   "execution_count": 87,
   "id": "44a85c9f-65f8-4fec-b3e7-e20d9ffd16fc",
   "metadata": {},
   "outputs": [
    {
     "name": "stdout",
     "output_type": "stream",
     "text": [
      "precison_mean = 0.871, recall_mean= 0.936, f1_score_mean=0.902,roc_mean= 0.955\n"
     ]
    }
   ],
   "source": [
    "xg = XGBClassifier(random_state = RANDOM_STATE,learning_rate=0.09,  n_estimators=500, n_jobs=-1, max_depth=3,scale_pos_weight=ratio)\n",
    "\n",
    "train_final = X_train.join(y_train)   # features and label combined dataset, this is required for cv_score_model function\n",
    "cv_score_model(train_final, xg)"
   ]
  },
  {
   "cell_type": "markdown",
   "id": "6a992156-ece8-439d-abc6-5acb0157985c",
   "metadata": {},
   "source": [
    "### 4. Train model on train set and predict on test set"
   ]
  },
  {
   "cell_type": "code",
   "execution_count": 91,
   "id": "852cbc11-db70-47a2-bb87-0bd16b49d1da",
   "metadata": {},
   "outputs": [
    {
     "name": "stdout",
     "output_type": "stream",
     "text": [
      "precision_score= 0.907\n",
      "recall_score= 0.957\n",
      "f1_score= 0.931\n",
      "roc_auc_score= 0.969\n",
      "Classification report\n",
      "              precision    recall  f1-score   support\n",
      "\n",
      "           0       0.99      0.98      0.99       850\n",
      "           1       0.91      0.96      0.93       163\n",
      "\n",
      "    accuracy                           0.98      1013\n",
      "   macro avg       0.95      0.97      0.96      1013\n",
      "weighted avg       0.98      0.98      0.98      1013\n",
      "\n"
     ]
    }
   ],
   "source": [
    "def train_eval(model,X_train,X_test,y_train,y_test):\n",
    "    model.fit(X_train,y_train)\n",
    "    predictions = xg.predict(X_test)\n",
    "    print(f'precision_score= {round(precision_score(y_test,predictions),3)}')\n",
    "    print(f'recall_score= {round(recall_score(y_test,predictions),3)}')\n",
    "    print(f'f1_score= {round(f1_score(y_test,predictions),3)}')\n",
    "    print(f'roc_auc_score= {round(roc_auc_score(y_true=y_test , y_score=predictions),3)}')\n",
    "    print('Classification report')\n",
    "    print(classification_report(y_test, predictions))\n",
    "    \n",
    "    \n",
    "train_eval(xg,X_train, X_test_f, y_train, y_test_f)"
   ]
  },
  {
   "cell_type": "markdown",
   "id": "d8943dd0-48b1-46f3-92b0-0fb7f507be09",
   "metadata": {
    "tags": []
   },
   "source": [
    "## Feature Importance"
   ]
  },
  {
   "cell_type": "code",
   "execution_count": 89,
   "id": "48922e21-1890-4d4a-9142-221756e8a415",
   "metadata": {},
   "outputs": [],
   "source": [
    "def fi(model):\n",
    "    f = pd.DataFrame({'Features':model.feature_names_in_,'Importance':model.feature_importances_})\n",
    "    f.sort_values(by='Importance',ascending=False,inplace=True)\n",
    "    print(f)\n",
    "    sns.barplot(data=f,x=f['Features'],y=f['Importance'])\n",
    "    plt.xticks(rotation='vertical')"
   ]
  },
  {
   "cell_type": "code",
   "execution_count": 90,
   "id": "23acc6bf-1345-45d9-9d82-d43ce769af0c",
   "metadata": {},
   "outputs": [
    {
     "name": "stdout",
     "output_type": "stream",
     "text": [
      "                    Features  Importance\n",
      "16            Total_Trans_Ct    0.302886\n",
      "12       Total_Revolving_Bal    0.145232\n",
      "19                 avg_trans    0.114320\n",
      "8   Total_Relationship_Count    0.091971\n",
      "15           Total_Trans_Amt    0.056318\n",
      "17       Total_Ct_Chng_Q4_Q1    0.048441\n",
      "9     Months_Inactive_12_mon    0.038148\n",
      "14      Total_Amt_Chng_Q4_Q1    0.033639\n",
      "10     Contacts_Count_12_mon    0.029336\n",
      "5               Customer_Age    0.020395\n",
      "0                     Gender    0.019826\n",
      "7             Months_on_book    0.019441\n",
      "2             Marital_Status    0.015973\n",
      "13           Avg_Open_To_Buy    0.015365\n",
      "18     Avg_Utilization_Ratio    0.012770\n",
      "11              Credit_Limit    0.011413\n",
      "6            Dependent_count    0.009531\n",
      "1            Education_Level    0.009019\n",
      "3            Income_Category    0.005962\n",
      "4              Card_Category    0.000015\n"
     ]
    },
    {
     "data": {
      "image/png": "[encoded data removed]",
      "text/plain": [
       "<Figure size 432x288 with 1 Axes>"
      ]
     },
     "metadata": {
      "needs_background": "light"
     },
     "output_type": "display_data"
    }
   ],
   "source": [
    "fi(xg)"
   ]
  }
 ],
 "metadata": {
  "kernelspec": {
   "display_name": "Python 3 (ipykernel)",
   "language": "python",
   "name": "python3"
  },
  "language_info": {
   "codemirror_mode": {
    "name": "ipython",
    "version": 3
   },
   "file_extension": ".py",
   "mimetype": "text/x-python",
   "name": "python",
   "nbconvert_exporter": "python",
   "pygments_lexer": "ipython3",
   "version": "3.9.15"
  }
 },
 "nbformat": 4,
 "nbformat_minor": 5
}
